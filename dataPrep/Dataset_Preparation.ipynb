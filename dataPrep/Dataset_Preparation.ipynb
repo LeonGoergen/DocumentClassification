{
  "nbformat": 4,
  "nbformat_minor": 0,
  "metadata": {
    "colab": {
      "provenance": [],
      "collapsed_sections": [
        "0G3eng4s4GNu",
        "Wg9sDCiD_BOy",
        "Ove-IMZjDc3W",
        "ZaoWJWZIDkJa",
        "E9HiiXf-bjc1",
        "HCC9BM7ppFiN"
      ],
      "include_colab_link": true
    },
    "kernelspec": {
      "name": "python3",
      "display_name": "Python 3"
    },
    "language_info": {
      "name": "python"
    }
  },
  "cells": [
    {
      "cell_type": "markdown",
      "metadata": {
        "id": "view-in-github",
        "colab_type": "text"
      },
      "source": [
        "<a href=\"https://colab.research.google.com/github/LeonGoergen/DocumentClassification/blob/main/dataPrep/Dataset_Preparation.ipynb\" target=\"_parent\"><img src=\"https://colab.research.google.com/assets/colab-badge.svg\" alt=\"Open In Colab\"/></a>"
      ]
    },
    {
      "cell_type": "markdown",
      "source": [
        "# Imports"
      ],
      "metadata": {
        "id": "0G3eng4s4GNu"
      }
    },
    {
      "cell_type": "code",
      "execution_count": null,
      "metadata": {
        "id": "-N9uAJor4BDp"
      },
      "outputs": [],
      "source": [
        "import pandas as pd\n",
        "import numpy as np\n",
        "import math\n",
        "import seaborn as sns\n",
        "from matplotlib import pyplot as plt\n",
        "from sklearn.model_selection import train_test_split\n",
        "from sklearn.utils import shuffle\n",
        "from tabulate import tabulate"
      ]
    },
    {
      "cell_type": "code",
      "source": [
        "from google.colab import drive\n",
        "drive.mount('/content/drive')"
      ],
      "metadata": {
        "colab": {
          "base_uri": "https://localhost:8080/"
        },
        "id": "569sLhRtroo5",
        "outputId": "06a361a7-dbe6-481f-bdca-5baf833bc7d6"
      },
      "execution_count": null,
      "outputs": [
        {
          "output_type": "stream",
          "name": "stdout",
          "text": [
            "Mounted at /content/drive\n"
          ]
        }
      ]
    },
    {
      "cell_type": "markdown",
      "source": [
        "# Data Preparation"
      ],
      "metadata": {
        "id": "Wg9sDCiD_BOy"
      }
    },
    {
      "cell_type": "markdown",
      "source": [
        "## Data Exploration"
      ],
      "metadata": {
        "id": "Ove-IMZjDc3W"
      }
    },
    {
      "cell_type": "code",
      "source": [
        "data = pd.read_csv('/content/drive/MyDrive/Bachelor Thesis/Datasets/data_original.csv', header=0)\n",
        "data.head()"
      ],
      "metadata": {
        "colab": {
          "base_uri": "https://localhost:8080/",
          "height": 580
        },
        "id": "jXWYvWoyINkP",
        "outputId": "e544772a-a70e-4c2b-d04a-d084bef48a90"
      },
      "execution_count": null,
      "outputs": [
        {
          "output_type": "stream",
          "name": "stderr",
          "text": [
            "<ipython-input-3-f1d959a163bc>:1: DtypeWarning: Columns (9,16) have mixed types. Specify dtype option on import or set low_memory=False.\n",
            "  data = pd.read_csv('/content/drive/MyDrive/Bachelor Thesis/Datasets/data_original.csv', header=0)\n"
          ]
        },
        {
          "output_type": "execute_result",
          "data": {
            "text/plain": [
              "  Date received                                            Product  \\\n",
              "0    2022-12-29                                           Mortgage   \n",
              "1    2022-12-24                        Checking or savings account   \n",
              "2    2022-12-24  Credit reporting, credit repair services, or o...   \n",
              "3    2022-12-20                        Credit card or prepaid card   \n",
              "4    2023-01-04  Credit reporting, credit repair services, or o...   \n",
              "\n",
              "                                  Sub-product  \\\n",
              "0                  Conventional home mortgage   \n",
              "1                            Checking account   \n",
              "2                            Credit reporting   \n",
              "3  General-purpose credit card or charge card   \n",
              "4                            Credit reporting   \n",
              "\n",
              "                                             Issue  \\\n",
              "0                       Struggling to pay mortgage   \n",
              "1                              Managing an account   \n",
              "2                      Improper use of your report   \n",
              "3  Problem with a purchase shown on your statement   \n",
              "4                      Improper use of your report   \n",
              "\n",
              "                                           Sub-issue  \\\n",
              "0                                                NaN   \n",
              "1                           Deposits and withdrawals   \n",
              "2  Credit inquiries on your report that you don't...   \n",
              "3  Credit card company isn't resolving a dispute ...   \n",
              "4  Credit inquiries on your report that you don't...   \n",
              "\n",
              "                        Consumer complaint narrative  \\\n",
              "0                                                NaN   \n",
              "1  I opened up a account online XXXX weeks ago an...   \n",
              "2                                                NaN   \n",
              "3  Received credit card statement dated XX/XX/22 ...   \n",
              "4                                                NaN   \n",
              "\n",
              "                             Company public response  \\\n",
              "0                                                NaN   \n",
              "1  Company has responded to the consumer and the ...   \n",
              "2                                                NaN   \n",
              "3  Company has responded to the consumer and the ...   \n",
              "4                                                NaN   \n",
              "\n",
              "                                  Company State ZIP code           Tags  \\\n",
              "0             Ocwen Financial Corporation    TX  76103.0            NaN   \n",
              "1    BMO HARRIS BANK NATIONAL ASSOCIATION    AZ  85301.0  Servicemember   \n",
              "2                           DISCOVER BANK    FL  33009.0            NaN   \n",
              "3                            U.S. BANCORP    OH  45377.0            NaN   \n",
              "4  TRANSUNION INTERMEDIATE HOLDINGS, INC.    VA  23513.0            NaN   \n",
              "\n",
              "  Consumer consent provided? Submitted via Date sent to company  \\\n",
              "0                        NaN           Web           2022-12-29   \n",
              "1           Consent provided           Web           2022-12-24   \n",
              "2                        NaN           Web           2022-12-24   \n",
              "3           Consent provided           Web           2022-12-20   \n",
              "4                        NaN           Web           2023-01-04   \n",
              "\n",
              "      Company response to consumer Timely response? Consumer disputed?  \\\n",
              "0                      In progress              Yes                NaN   \n",
              "1          Closed with explanation              Yes                NaN   \n",
              "2  Closed with non-monetary relief              Yes                NaN   \n",
              "3  Closed with non-monetary relief              Yes                NaN   \n",
              "4                      In progress              Yes                NaN   \n",
              "\n",
              "   Complaint ID  \n",
              "0       6375159  \n",
              "1       6358144  \n",
              "2       6355921  \n",
              "3       6338237  \n",
              "4       6389694  "
            ],
            "text/html": [
              "\n",
              "  <div id=\"df-738756ef-0f24-45a5-9ec5-2acd47d56c57\">\n",
              "    <div class=\"colab-df-container\">\n",
              "      <div>\n",
              "<style scoped>\n",
              "    .dataframe tbody tr th:only-of-type {\n",
              "        vertical-align: middle;\n",
              "    }\n",
              "\n",
              "    .dataframe tbody tr th {\n",
              "        vertical-align: top;\n",
              "    }\n",
              "\n",
              "    .dataframe thead th {\n",
              "        text-align: right;\n",
              "    }\n",
              "</style>\n",
              "<table border=\"1\" class=\"dataframe\">\n",
              "  <thead>\n",
              "    <tr style=\"text-align: right;\">\n",
              "      <th></th>\n",
              "      <th>Date received</th>\n",
              "      <th>Product</th>\n",
              "      <th>Sub-product</th>\n",
              "      <th>Issue</th>\n",
              "      <th>Sub-issue</th>\n",
              "      <th>Consumer complaint narrative</th>\n",
              "      <th>Company public response</th>\n",
              "      <th>Company</th>\n",
              "      <th>State</th>\n",
              "      <th>ZIP code</th>\n",
              "      <th>Tags</th>\n",
              "      <th>Consumer consent provided?</th>\n",
              "      <th>Submitted via</th>\n",
              "      <th>Date sent to company</th>\n",
              "      <th>Company response to consumer</th>\n",
              "      <th>Timely response?</th>\n",
              "      <th>Consumer disputed?</th>\n",
              "      <th>Complaint ID</th>\n",
              "    </tr>\n",
              "  </thead>\n",
              "  <tbody>\n",
              "    <tr>\n",
              "      <th>0</th>\n",
              "      <td>2022-12-29</td>\n",
              "      <td>Mortgage</td>\n",
              "      <td>Conventional home mortgage</td>\n",
              "      <td>Struggling to pay mortgage</td>\n",
              "      <td>NaN</td>\n",
              "      <td>NaN</td>\n",
              "      <td>NaN</td>\n",
              "      <td>Ocwen Financial Corporation</td>\n",
              "      <td>TX</td>\n",
              "      <td>76103.0</td>\n",
              "      <td>NaN</td>\n",
              "      <td>NaN</td>\n",
              "      <td>Web</td>\n",
              "      <td>2022-12-29</td>\n",
              "      <td>In progress</td>\n",
              "      <td>Yes</td>\n",
              "      <td>NaN</td>\n",
              "      <td>6375159</td>\n",
              "    </tr>\n",
              "    <tr>\n",
              "      <th>1</th>\n",
              "      <td>2022-12-24</td>\n",
              "      <td>Checking or savings account</td>\n",
              "      <td>Checking account</td>\n",
              "      <td>Managing an account</td>\n",
              "      <td>Deposits and withdrawals</td>\n",
              "      <td>I opened up a account online XXXX weeks ago an...</td>\n",
              "      <td>Company has responded to the consumer and the ...</td>\n",
              "      <td>BMO HARRIS BANK NATIONAL ASSOCIATION</td>\n",
              "      <td>AZ</td>\n",
              "      <td>85301.0</td>\n",
              "      <td>Servicemember</td>\n",
              "      <td>Consent provided</td>\n",
              "      <td>Web</td>\n",
              "      <td>2022-12-24</td>\n",
              "      <td>Closed with explanation</td>\n",
              "      <td>Yes</td>\n",
              "      <td>NaN</td>\n",
              "      <td>6358144</td>\n",
              "    </tr>\n",
              "    <tr>\n",
              "      <th>2</th>\n",
              "      <td>2022-12-24</td>\n",
              "      <td>Credit reporting, credit repair services, or o...</td>\n",
              "      <td>Credit reporting</td>\n",
              "      <td>Improper use of your report</td>\n",
              "      <td>Credit inquiries on your report that you don't...</td>\n",
              "      <td>NaN</td>\n",
              "      <td>NaN</td>\n",
              "      <td>DISCOVER BANK</td>\n",
              "      <td>FL</td>\n",
              "      <td>33009.0</td>\n",
              "      <td>NaN</td>\n",
              "      <td>NaN</td>\n",
              "      <td>Web</td>\n",
              "      <td>2022-12-24</td>\n",
              "      <td>Closed with non-monetary relief</td>\n",
              "      <td>Yes</td>\n",
              "      <td>NaN</td>\n",
              "      <td>6355921</td>\n",
              "    </tr>\n",
              "    <tr>\n",
              "      <th>3</th>\n",
              "      <td>2022-12-20</td>\n",
              "      <td>Credit card or prepaid card</td>\n",
              "      <td>General-purpose credit card or charge card</td>\n",
              "      <td>Problem with a purchase shown on your statement</td>\n",
              "      <td>Credit card company isn't resolving a dispute ...</td>\n",
              "      <td>Received credit card statement dated XX/XX/22 ...</td>\n",
              "      <td>Company has responded to the consumer and the ...</td>\n",
              "      <td>U.S. BANCORP</td>\n",
              "      <td>OH</td>\n",
              "      <td>45377.0</td>\n",
              "      <td>NaN</td>\n",
              "      <td>Consent provided</td>\n",
              "      <td>Web</td>\n",
              "      <td>2022-12-20</td>\n",
              "      <td>Closed with non-monetary relief</td>\n",
              "      <td>Yes</td>\n",
              "      <td>NaN</td>\n",
              "      <td>6338237</td>\n",
              "    </tr>\n",
              "    <tr>\n",
              "      <th>4</th>\n",
              "      <td>2023-01-04</td>\n",
              "      <td>Credit reporting, credit repair services, or o...</td>\n",
              "      <td>Credit reporting</td>\n",
              "      <td>Improper use of your report</td>\n",
              "      <td>Credit inquiries on your report that you don't...</td>\n",
              "      <td>NaN</td>\n",
              "      <td>NaN</td>\n",
              "      <td>TRANSUNION INTERMEDIATE HOLDINGS, INC.</td>\n",
              "      <td>VA</td>\n",
              "      <td>23513.0</td>\n",
              "      <td>NaN</td>\n",
              "      <td>NaN</td>\n",
              "      <td>Web</td>\n",
              "      <td>2023-01-04</td>\n",
              "      <td>In progress</td>\n",
              "      <td>Yes</td>\n",
              "      <td>NaN</td>\n",
              "      <td>6389694</td>\n",
              "    </tr>\n",
              "  </tbody>\n",
              "</table>\n",
              "</div>\n",
              "      <button class=\"colab-df-convert\" onclick=\"convertToInteractive('df-738756ef-0f24-45a5-9ec5-2acd47d56c57')\"\n",
              "              title=\"Convert this dataframe to an interactive table.\"\n",
              "              style=\"display:none;\">\n",
              "        \n",
              "  <svg xmlns=\"http://www.w3.org/2000/svg\" height=\"24px\"viewBox=\"0 0 24 24\"\n",
              "       width=\"24px\">\n",
              "    <path d=\"M0 0h24v24H0V0z\" fill=\"none\"/>\n",
              "    <path d=\"M18.56 5.44l.94 2.06.94-2.06 2.06-.94-2.06-.94-.94-2.06-.94 2.06-2.06.94zm-11 1L8.5 8.5l.94-2.06 2.06-.94-2.06-.94L8.5 2.5l-.94 2.06-2.06.94zm10 10l.94 2.06.94-2.06 2.06-.94-2.06-.94-.94-2.06-.94 2.06-2.06.94z\"/><path d=\"M17.41 7.96l-1.37-1.37c-.4-.4-.92-.59-1.43-.59-.52 0-1.04.2-1.43.59L10.3 9.45l-7.72 7.72c-.78.78-.78 2.05 0 2.83L4 21.41c.39.39.9.59 1.41.59.51 0 1.02-.2 1.41-.59l7.78-7.78 2.81-2.81c.8-.78.8-2.07 0-2.86zM5.41 20L4 18.59l7.72-7.72 1.47 1.35L5.41 20z\"/>\n",
              "  </svg>\n",
              "      </button>\n",
              "      \n",
              "  <style>\n",
              "    .colab-df-container {\n",
              "      display:flex;\n",
              "      flex-wrap:wrap;\n",
              "      gap: 12px;\n",
              "    }\n",
              "\n",
              "    .colab-df-convert {\n",
              "      background-color: #E8F0FE;\n",
              "      border: none;\n",
              "      border-radius: 50%;\n",
              "      cursor: pointer;\n",
              "      display: none;\n",
              "      fill: #1967D2;\n",
              "      height: 32px;\n",
              "      padding: 0 0 0 0;\n",
              "      width: 32px;\n",
              "    }\n",
              "\n",
              "    .colab-df-convert:hover {\n",
              "      background-color: #E2EBFA;\n",
              "      box-shadow: 0px 1px 2px rgba(60, 64, 67, 0.3), 0px 1px 3px 1px rgba(60, 64, 67, 0.15);\n",
              "      fill: #174EA6;\n",
              "    }\n",
              "\n",
              "    [theme=dark] .colab-df-convert {\n",
              "      background-color: #3B4455;\n",
              "      fill: #D2E3FC;\n",
              "    }\n",
              "\n",
              "    [theme=dark] .colab-df-convert:hover {\n",
              "      background-color: #434B5C;\n",
              "      box-shadow: 0px 1px 3px 1px rgba(0, 0, 0, 0.15);\n",
              "      filter: drop-shadow(0px 1px 2px rgba(0, 0, 0, 0.3));\n",
              "      fill: #FFFFFF;\n",
              "    }\n",
              "  </style>\n",
              "\n",
              "      <script>\n",
              "        const buttonEl =\n",
              "          document.querySelector('#df-738756ef-0f24-45a5-9ec5-2acd47d56c57 button.colab-df-convert');\n",
              "        buttonEl.style.display =\n",
              "          google.colab.kernel.accessAllowed ? 'block' : 'none';\n",
              "\n",
              "        async function convertToInteractive(key) {\n",
              "          const element = document.querySelector('#df-738756ef-0f24-45a5-9ec5-2acd47d56c57');\n",
              "          const dataTable =\n",
              "            await google.colab.kernel.invokeFunction('convertToInteractive',\n",
              "                                                     [key], {});\n",
              "          if (!dataTable) return;\n",
              "\n",
              "          const docLinkHtml = 'Like what you see? Visit the ' +\n",
              "            '<a target=\"_blank\" href=https://colab.research.google.com/notebooks/data_table.ipynb>data table notebook</a>'\n",
              "            + ' to learn more about interactive tables.';\n",
              "          element.innerHTML = '';\n",
              "          dataTable['output_type'] = 'display_data';\n",
              "          await google.colab.output.renderOutput(dataTable, element);\n",
              "          const docLink = document.createElement('div');\n",
              "          docLink.innerHTML = docLinkHtml;\n",
              "          element.appendChild(docLink);\n",
              "        }\n",
              "      </script>\n",
              "    </div>\n",
              "  </div>\n",
              "  "
            ]
          },
          "metadata": {},
          "execution_count": 3
        }
      ]
    },
    {
      "cell_type": "code",
      "source": [
        "def get_entropy(class_labels):\n",
        "    array = []\n",
        "\n",
        "    # get the names of unique classes in the dataset\n",
        "    class_names = np.unique(class_labels, return_counts=True)[0]\n",
        "    array.append(class_names)\n",
        "\n",
        "    # calculate the number of instances in each class\n",
        "    class_counts = np.unique(class_labels, return_counts=True)[1]\n",
        "    array.append(class_counts)\n",
        "\n",
        "    # calculate the proportion of instances in each class\n",
        "    class_proportions = class_counts / len(class_labels)\n",
        "    class_percentages = ['{:.2f}%'.format(p * 100) for p in class_proportions]\n",
        "    array.append(class_percentages)\n",
        "\n",
        "    # calculate the shannon entropy\n",
        "    entropy = 0\n",
        "    for count in class_counts:\n",
        "        p = count / sum(class_counts)\n",
        "        if p > 0:\n",
        "            entropy += -p * math.log(p)\n",
        "    entropy /= math.log(len(class_counts))\n",
        "\n",
        "    print(tabulate(array))\n",
        "    print(f\"\\nShannon Entropy: {entropy * 100:.4f}%\")"
      ],
      "metadata": {
        "id": "HlEfSGZrsjpN"
      },
      "execution_count": null,
      "outputs": []
    },
    {
      "cell_type": "code",
      "source": [
        "get_entropy(data['Product'].values)"
      ],
      "metadata": {
        "colab": {
          "base_uri": "https://localhost:8080/"
        },
        "id": "eRVY6oH2C7Km",
        "outputId": "9e816a66-eea4-47be-eabf-937d20b1ffb9"
      },
      "execution_count": null,
      "outputs": [
        {
          "output_type": "stream",
          "name": "stdout",
          "text": [
            "-----------------------  ---------------------------  -------------  -----------  ---------------------------  ----------------  ----------------------------------------------------------------------------  ---------------  --------------------------------------------------  ---------------  --------  -----------------------  -----------  -----------------------------------------  ------------  ------------  ---------------------  ----------------\n",
            "Bank account or service  Checking or savings account  Consumer Loan  Credit card  Credit card or prepaid card  Credit reporting  Credit reporting, credit repair services, or other personal consumer reports  Debt collection  Money transfer, virtual currency, or money service  Money transfers  Mortgage  Other financial service  Payday loan  Payday loan, title loan, or personal loan  Prepaid card  Student loan  Vehicle loan or lease  Virtual currency\n",
            "86206                    146542                       31596          89190        170426                       140429            1525311                                                                       459081           49369                                               5354             367567    1058                     5543         25874                                      3819          72251         38398                  18\n",
            "2.68%                    4.55%                        0.98%          2.77%        5.30%                        4.36%             47.40%                                                                        14.27%           1.53%                                               0.17%            11.42%    0.03%                    0.17%        0.80%                                      0.12%         2.25%         1.19%                  0.00%\n",
            "-----------------------  ---------------------------  -------------  -----------  ---------------------------  ----------------  ----------------------------------------------------------------------------  ---------------  --------------------------------------------------  ---------------  --------  -----------------------  -----------  -----------------------------------------  ------------  ------------  ---------------------  ----------------\n",
            "\n",
            "Shannon Entropy: 63.2246%\n"
          ]
        }
      ]
    },
    {
      "cell_type": "code",
      "source": [
        "nan = data[data['Consumer complaint narrative'].isna()]\n",
        "data = data[data['Consumer complaint narrative'].notna()]\n",
        "print(\"Number of documents without further textual explanations: \" + str(nan.shape[0]))\n",
        "print(\"Remaining documents: \" + str(data.shape[0]))"
      ],
      "metadata": {
        "colab": {
          "base_uri": "https://localhost:8080/"
        },
        "id": "6bcHRuK1NxI2",
        "outputId": "e3d5b6b2-23ec-455a-e2c4-663464e9fdf6"
      },
      "execution_count": null,
      "outputs": [
        {
          "output_type": "stream",
          "name": "stdout",
          "text": [
            "Number of documents without further textual explanations: 2056568\n",
            "Remaining documents: 1161464\n"
          ]
        }
      ]
    },
    {
      "cell_type": "code",
      "source": [
        "print(\"Number of duplicates: \" + str(data.shape[0] - data['Consumer complaint narrative'].nunique()))"
      ],
      "metadata": {
        "colab": {
          "base_uri": "https://localhost:8080/"
        },
        "id": "2x21JUi0fMlJ",
        "outputId": "3a11f952-9766-409d-9ad7-714fcac5aeec"
      },
      "execution_count": null,
      "outputs": [
        {
          "output_type": "stream",
          "name": "stdout",
          "text": [
            "Number of duplicates: 150566\n"
          ]
        }
      ]
    },
    {
      "cell_type": "code",
      "source": [
        "data.drop_duplicates(subset=\"Consumer complaint narrative\", inplace=True)\n",
        "print(\"Remaining documents: \" + str(data.shape[0]))"
      ],
      "metadata": {
        "colab": {
          "base_uri": "https://localhost:8080/"
        },
        "id": "lwmO0VgsgPq8",
        "outputId": "0fe3864d-ebf2-4071-ea39-b29dd1867023"
      },
      "execution_count": null,
      "outputs": [
        {
          "output_type": "stream",
          "name": "stdout",
          "text": [
            "Remaining documents: 1010898\n"
          ]
        }
      ]
    },
    {
      "cell_type": "code",
      "source": [
        "focus = 'Product'\n",
        "print(\"Number of unique Products: \" + str(data[focus].nunique()) + \"\\n\")\n",
        "data[focus].value_counts()"
      ],
      "metadata": {
        "colab": {
          "base_uri": "https://localhost:8080/"
        },
        "id": "XkH0XIqxOdwN",
        "outputId": "8d5b7861-d8b3-4c5c-c0e1-9e57b8480d22"
      },
      "execution_count": null,
      "outputs": [
        {
          "output_type": "stream",
          "name": "stdout",
          "text": [
            "Number of unique Products: 18\n",
            "\n"
          ]
        },
        {
          "output_type": "execute_result",
          "data": {
            "text/plain": [
              "Credit reporting, credit repair services, or other personal consumer reports    414070\n",
              "Debt collection                                                                 185167\n",
              "Mortgage                                                                         99025\n",
              "Credit card or prepaid card                                                      83331\n",
              "Checking or savings account                                                      56696\n",
              "Student loan                                                                     33450\n",
              "Credit reporting                                                                 29792\n",
              "Money transfer, virtual currency, or money service                               27254\n",
              "Vehicle loan or lease                                                            20192\n",
              "Credit card                                                                      18738\n",
              "Bank account or service                                                          14852\n",
              "Payday loan, title loan, or personal loan                                        13919\n",
              "Consumer Loan                                                                     9426\n",
              "Payday loan                                                                       1738\n",
              "Money transfers                                                                   1496\n",
              "Prepaid card                                                                      1447\n",
              "Other financial service                                                            291\n",
              "Virtual currency                                                                    14\n",
              "Name: Product, dtype: int64"
            ]
          },
          "metadata": {},
          "execution_count": 12
        }
      ]
    },
    {
      "cell_type": "code",
      "source": [
        "data[focus].value_counts().plot.bar(figsize=(15,8), title=\"Number of Complaints for each Category\", xlabel=\"Product\", ylabel=\"Number of complaints\")"
      ],
      "metadata": {
        "colab": {
          "base_uri": "https://localhost:8080/",
          "height": 895
        },
        "id": "lFwoInRRlU_h",
        "outputId": "3d25eec3-e56b-472c-d9bd-d0fef88e482a"
      },
      "execution_count": null,
      "outputs": [
        {
          "output_type": "execute_result",
          "data": {
            "text/plain": [
              "<matplotlib.axes._subplots.AxesSubplot at 0x7f1b360c9730>"
            ]
          },
          "metadata": {},
          "execution_count": 13
        },
        {
          "output_type": "display_data",
          "data": {
            "text/plain": [
              "<Figure size 1080x576 with 1 Axes>"
            ],
            "image/png": "[encoded data removed]"
          },
          "metadata": {
            "needs_background": "light"
          }
        }
      ]
    },
    {
      "cell_type": "markdown",
      "source": [
        "After reviewing the categories, it may be beneficial to consolidate certain categories for improved analysis. This consolidation is inspired by the work of [Susan Li](https://towardsdatascience.com/multi-class-text-classification-with-lstm-1590bee1bd17).\n",
        "\n",
        "\n"
      ],
      "metadata": {
        "id": "QRIY6zWDAsBm"
      }
    },
    {
      "cell_type": "code",
      "source": [
        "data.loc[data['Product'] == 'Credit card', 'Product'] = 'Credit card or prepaid card'\n",
        "data.loc[data['Product'] == 'Prepaid card', 'Product'] = 'Credit card or prepaid card'\n",
        "data.loc[data['Product'] == 'Virtual currency', 'Product'] = 'Money transfer, virtual currency, or money service'\n",
        "data.loc[data['Product'] == 'Money transfers', 'Product'] = 'Money transfer, virtual currency, or money service'\n",
        "data.loc[data['Product'] == 'Bank account or service', 'Product'] = 'Bank, checking or savings account'\n",
        "data.loc[data['Product'] == 'Checking or savings account', 'Product'] = 'Bank, checking or savings account'\n",
        "data.loc[data['Product'] == 'Credit reporting', 'Product'] = 'Credit reporting, credit repair services, or other personal consumer reports'\n",
        "data.loc[data['Product'] == 'Payday loan', 'Product'] = 'Payday loan, title loan, or personal loan'\n",
        "data = data[data.Product != 'Other financial service']"
      ],
      "metadata": {
        "id": "hy6IZlLP6GCq"
      },
      "execution_count": null,
      "outputs": []
    },
    {
      "cell_type": "code",
      "source": [
        "print(\"Number of unique Products: \" + str(data[focus].nunique()) + \"\\n\")\n",
        "data[focus].value_counts()"
      ],
      "metadata": {
        "colab": {
          "base_uri": "https://localhost:8080/"
        },
        "id": "7oo8SNuE6Wb4",
        "outputId": "31203566-a98b-4eca-f8b0-b7cb73c83d44"
      },
      "execution_count": null,
      "outputs": [
        {
          "output_type": "stream",
          "name": "stdout",
          "text": [
            "Number of unique Products: 10\n",
            "\n"
          ]
        },
        {
          "output_type": "execute_result",
          "data": {
            "text/plain": [
              "Credit reporting, credit repair services, or other personal consumer reports    443862\n",
              "Debt collection                                                                 185167\n",
              "Credit card or prepaid card                                                     103516\n",
              "Mortgage                                                                         99025\n",
              "Bank, checking or savings account                                                71548\n",
              "Student loan                                                                     33450\n",
              "Money transfer, virtual currency, or money service                               28764\n",
              "Vehicle loan or lease                                                            20192\n",
              "Payday loan, title loan, or personal loan                                        15657\n",
              "Consumer Loan                                                                     9426\n",
              "Name: Product, dtype: int64"
            ]
          },
          "metadata": {},
          "execution_count": 15
        }
      ]
    },
    {
      "cell_type": "markdown",
      "source": [
        "## Data Balancing"
      ],
      "metadata": {
        "id": "ZaoWJWZIDkJa"
      }
    },
    {
      "cell_type": "code",
      "source": [
        "columns = data.columns\n",
        "min_complaints = int(data[focus].value_counts().min())\n",
        "df = pd.DataFrame(columns=columns)\n",
        "for product in data[focus].unique():\n",
        "    sub_data = data.loc[data[focus] == product]\n",
        "    sub_data = shuffle(sub_data)\n",
        "    sub_data = sub_data.head(min_complaints)\n",
        "    df = df.append(sub_data)\n",
        "\n",
        "df"
      ],
      "metadata": {
        "colab": {
          "base_uri": "https://localhost:8080/",
          "height": 1000
        },
        "id": "C8fdyXAUDIG5",
        "outputId": "d051418a-697b-4c1a-dc57-7ab34679b212"
      },
      "execution_count": null,
      "outputs": [
        {
          "output_type": "execute_result",
          "data": {
            "text/plain": [
              "        Date received                            Product  \\\n",
              "78817      2022-09-01  Bank, checking or savings account   \n",
              "1432305    2018-10-12  Bank, checking or savings account   \n",
              "2244712    2016-08-24  Bank, checking or savings account   \n",
              "1510626    2018-08-01  Bank, checking or savings account   \n",
              "2164074    2017-04-28  Bank, checking or savings account   \n",
              "...               ...                                ...   \n",
              "1921036    2015-12-07                      Consumer Loan   \n",
              "1822559    2016-05-31                      Consumer Loan   \n",
              "3181052    2016-03-28                      Consumer Loan   \n",
              "2612407    2015-04-08                      Consumer Loan   \n",
              "2629461    2016-11-29                      Consumer Loan   \n",
              "\n",
              "                              Sub-product  \\\n",
              "78817                    Checking account   \n",
              "1432305                  Checking account   \n",
              "2244712                  Checking account   \n",
              "1510626  Other banking product or service   \n",
              "2164074                  Checking account   \n",
              "...                                   ...   \n",
              "1921036                      Vehicle loan   \n",
              "1822559                  Installment loan   \n",
              "3181052                      Vehicle loan   \n",
              "2612407                      Vehicle loan   \n",
              "2629461                      Vehicle loan   \n",
              "\n",
              "                                            Issue  \\\n",
              "78817                          Opening an account   \n",
              "1432305                       Managing an account   \n",
              "2244712  Making/receiving payments, sending money   \n",
              "1510626                       Managing an account   \n",
              "2164074                        Opening an account   \n",
              "...                                           ...   \n",
              "1921036              Taking out the loan or lease   \n",
              "1822559                Managing the loan or lease   \n",
              "3181052                Managing the loan or lease   \n",
              "2612407       Problems when you are unable to pay   \n",
              "2629461                Managing the loan or lease   \n",
              "\n",
              "                                         Sub-issue  \\\n",
              "78817          Account opened as a result of fraud   \n",
              "1432305                             Banking errors   \n",
              "2244712                                        NaN   \n",
              "1510626                   Deposits and withdrawals   \n",
              "2164074  Didn't receive terms that were advertised   \n",
              "...                                            ...   \n",
              "1921036                                        NaN   \n",
              "1822559                                        NaN   \n",
              "3181052                                        NaN   \n",
              "2612407                                        NaN   \n",
              "2629461                                        NaN   \n",
              "\n",
              "                              Consumer complaint narrative  \\\n",
              "78817    Someone opened a fraudulent checking account w...   \n",
              "1432305  On XX/XX/XXXX, I first went to my bank and wit...   \n",
              "2244712  My business wrote a check to our wholesaler XX...   \n",
              "1510626  In XXXX, my parents purchased a savings certif...   \n",
              "2164074  In mid  XXXX   XXXX , I responded to the Bank ...   \n",
              "...                                                    ...   \n",
              "1921036  My vehicle, originally financed with Capital O...   \n",
              "1822559  Due to new information I 'm submitting a new i...   \n",
              "3181052  Debt on my credit for {$3000.00} states a char...   \n",
              "2612407  24 % interest rate high pmts refuses to help w...   \n",
              "2629461  Nissan hit me with a 30-day late fee for my ca...   \n",
              "\n",
              "                                   Company public response  \\\n",
              "78817    Company has responded to the consumer and the ...   \n",
              "1432305  Company has responded to the consumer and the ...   \n",
              "2244712  Company has responded to the consumer and the ...   \n",
              "1510626  Company has responded to the consumer and the ...   \n",
              "2164074  Company has responded to the consumer and the ...   \n",
              "...                                                    ...   \n",
              "1921036                                                NaN   \n",
              "1822559  Company believes the complaint is the result o...   \n",
              "3181052  Company has responded to the consumer and the ...   \n",
              "2612407                                                NaN   \n",
              "2629461                                                NaN   \n",
              "\n",
              "                                       Company State ZIP code Tags  \\\n",
              "78817    BANK OF AMERICA, NATIONAL ASSOCIATION    VA  23113.0  NaN   \n",
              "1432305                         CITIBANK, N.A.    CA  92782.0  NaN   \n",
              "2244712                  WELLS FARGO & COMPANY    NY  14221.0  NaN   \n",
              "1510626                  WELLS FARGO & COMPANY    PA  19335.0  NaN   \n",
              "2164074  BANK OF AMERICA, NATIONAL ASSOCIATION    TN    38016  NaN   \n",
              "...                                        ...   ...      ...  ...   \n",
              "1921036      CAPITAL ONE FINANCIAL CORPORATION    TX    76120  NaN   \n",
              "1822559                   Ditech Financial LLC    OR    97520  NaN   \n",
              "3181052                  WELLS FARGO & COMPANY    WI    53227  NaN   \n",
              "2612407   Santander Consumer USA Holdings Inc.    GA  30650.0  NaN   \n",
              "2629461    NISSAN MOTOR ACCEPTANCE COMPANY LLC    TX    78620  NaN   \n",
              "\n",
              "        Consumer consent provided? Submitted via Date sent to company  \\\n",
              "78817             Consent provided           Web           2022-09-01   \n",
              "1432305           Consent provided           Web           2018-10-12   \n",
              "2244712           Consent provided           Web           2016-08-24   \n",
              "1510626           Consent provided           Web           2018-08-01   \n",
              "2164074           Consent provided           Web           2017-04-28   \n",
              "...                            ...           ...                  ...   \n",
              "1921036           Consent provided           Web           2015-12-07   \n",
              "1822559           Consent provided           Web           2016-06-02   \n",
              "3181052           Consent provided           Web           2016-03-28   \n",
              "2612407           Consent provided           Web           2015-04-08   \n",
              "2629461           Consent provided           Web           2016-11-29   \n",
              "\n",
              "            Company response to consumer Timely response? Consumer disputed?  \\\n",
              "78817            Closed with explanation              Yes                NaN   \n",
              "1432305          Closed with explanation              Yes                NaN   \n",
              "2244712                           Closed              Yes                 No   \n",
              "1510626  Closed with non-monetary relief              Yes                NaN   \n",
              "2164074      Closed with monetary relief              Yes                NaN   \n",
              "...                                  ...              ...                ...   \n",
              "1921036          Closed with explanation              Yes                 No   \n",
              "1822559          Closed with explanation              Yes                 No   \n",
              "3181052          Closed with explanation              Yes                Yes   \n",
              "2612407          Closed with explanation              Yes                 No   \n",
              "2629461          Closed with explanation              Yes                 No   \n",
              "\n",
              "        Complaint ID  \n",
              "78817        5942033  \n",
              "1432305      3044004  \n",
              "2244712      2078770  \n",
              "1510626      2979658  \n",
              "2164074      2469542  \n",
              "...              ...  \n",
              "1921036      1685412  \n",
              "1822559      1947823  \n",
              "3181052      1851465  \n",
              "2612407      1320770  \n",
              "2629461      2228149  \n",
              "\n",
              "[94260 rows x 18 columns]"
            ],
            "text/html": [
              "\n",
              "  <div id=\"df-0ddee5c9-39bf-436f-a955-17f86290b634\">\n",
              "    <div class=\"colab-df-container\">\n",
              "      <div>\n",
              "<style scoped>\n",
              "    .dataframe tbody tr th:only-of-type {\n",
              "        vertical-align: middle;\n",
              "    }\n",
              "\n",
              "    .dataframe tbody tr th {\n",
              "        vertical-align: top;\n",
              "    }\n",
              "\n",
              "    .dataframe thead th {\n",
              "        text-align: right;\n",
              "    }\n",
              "</style>\n",
              "<table border=\"1\" class=\"dataframe\">\n",
              "  <thead>\n",
              "    <tr style=\"text-align: right;\">\n",
              "      <th></th>\n",
              "      <th>Date received</th>\n",
              "      <th>Product</th>\n",
              "      <th>Sub-product</th>\n",
              "      <th>Issue</th>\n",
              "      <th>Sub-issue</th>\n",
              "      <th>Consumer complaint narrative</th>\n",
              "      <th>Company public response</th>\n",
              "      <th>Company</th>\n",
              "      <th>State</th>\n",
              "      <th>ZIP code</th>\n",
              "      <th>Tags</th>\n",
              "      <th>Consumer consent provided?</th>\n",
              "      <th>Submitted via</th>\n",
              "      <th>Date sent to company</th>\n",
              "      <th>Company response to consumer</th>\n",
              "      <th>Timely response?</th>\n",
              "      <th>Consumer disputed?</th>\n",
              "      <th>Complaint ID</th>\n",
              "    </tr>\n",
              "  </thead>\n",
              "  <tbody>\n",
              "    <tr>\n",
              "      <th>78817</th>\n",
              "      <td>2022-09-01</td>\n",
              "      <td>Bank, checking or savings account</td>\n",
              "      <td>Checking account</td>\n",
              "      <td>Opening an account</td>\n",
              "      <td>Account opened as a result of fraud</td>\n",
              "      <td>Someone opened a fraudulent checking account w...</td>\n",
              "      <td>Company has responded to the consumer and the ...</td>\n",
              "      <td>BANK OF AMERICA, NATIONAL ASSOCIATION</td>\n",
              "      <td>VA</td>\n",
              "      <td>23113.0</td>\n",
              "      <td>NaN</td>\n",
              "      <td>Consent provided</td>\n",
              "      <td>Web</td>\n",
              "      <td>2022-09-01</td>\n",
              "      <td>Closed with explanation</td>\n",
              "      <td>Yes</td>\n",
              "      <td>NaN</td>\n",
              "      <td>5942033</td>\n",
              "    </tr>\n",
              "    <tr>\n",
              "      <th>1432305</th>\n",
              "      <td>2018-10-12</td>\n",
              "      <td>Bank, checking or savings account</td>\n",
              "      <td>Checking account</td>\n",
              "      <td>Managing an account</td>\n",
              "      <td>Banking errors</td>\n",
              "      <td>On XX/XX/XXXX, I first went to my bank and wit...</td>\n",
              "      <td>Company has responded to the consumer and the ...</td>\n",
              "      <td>CITIBANK, N.A.</td>\n",
              "      <td>CA</td>\n",
              "      <td>92782.0</td>\n",
              "      <td>NaN</td>\n",
              "      <td>Consent provided</td>\n",
              "      <td>Web</td>\n",
              "      <td>2018-10-12</td>\n",
              "      <td>Closed with explanation</td>\n",
              "      <td>Yes</td>\n",
              "      <td>NaN</td>\n",
              "      <td>3044004</td>\n",
              "    </tr>\n",
              "    <tr>\n",
              "      <th>2244712</th>\n",
              "      <td>2016-08-24</td>\n",
              "      <td>Bank, checking or savings account</td>\n",
              "      <td>Checking account</td>\n",
              "      <td>Making/receiving payments, sending money</td>\n",
              "      <td>NaN</td>\n",
              "      <td>My business wrote a check to our wholesaler XX...</td>\n",
              "      <td>Company has responded to the consumer and the ...</td>\n",
              "      <td>WELLS FARGO &amp; COMPANY</td>\n",
              "      <td>NY</td>\n",
              "      <td>14221.0</td>\n",
              "      <td>NaN</td>\n",
              "      <td>Consent provided</td>\n",
              "      <td>Web</td>\n",
              "      <td>2016-08-24</td>\n",
              "      <td>Closed</td>\n",
              "      <td>Yes</td>\n",
              "      <td>No</td>\n",
              "      <td>2078770</td>\n",
              "    </tr>\n",
              "    <tr>\n",
              "      <th>1510626</th>\n",
              "      <td>2018-08-01</td>\n",
              "      <td>Bank, checking or savings account</td>\n",
              "      <td>Other banking product or service</td>\n",
              "      <td>Managing an account</td>\n",
              "      <td>Deposits and withdrawals</td>\n",
              "      <td>In XXXX, my parents purchased a savings certif...</td>\n",
              "      <td>Company has responded to the consumer and the ...</td>\n",
              "      <td>WELLS FARGO &amp; COMPANY</td>\n",
              "      <td>PA</td>\n",
              "      <td>19335.0</td>\n",
              "      <td>NaN</td>\n",
              "      <td>Consent provided</td>\n",
              "      <td>Web</td>\n",
              "      <td>2018-08-01</td>\n",
              "      <td>Closed with non-monetary relief</td>\n",
              "      <td>Yes</td>\n",
              "      <td>NaN</td>\n",
              "      <td>2979658</td>\n",
              "    </tr>\n",
              "    <tr>\n",
              "      <th>2164074</th>\n",
              "      <td>2017-04-28</td>\n",
              "      <td>Bank, checking or savings account</td>\n",
              "      <td>Checking account</td>\n",
              "      <td>Opening an account</td>\n",
              "      <td>Didn't receive terms that were advertised</td>\n",
              "      <td>In mid  XXXX   XXXX , I responded to the Bank ...</td>\n",
              "      <td>Company has responded to the consumer and the ...</td>\n",
              "      <td>BANK OF AMERICA, NATIONAL ASSOCIATION</td>\n",
              "      <td>TN</td>\n",
              "      <td>38016</td>\n",
              "      <td>NaN</td>\n",
              "      <td>Consent provided</td>\n",
              "      <td>Web</td>\n",
              "      <td>2017-04-28</td>\n",
              "      <td>Closed with monetary relief</td>\n",
              "      <td>Yes</td>\n",
              "      <td>NaN</td>\n",
              "      <td>2469542</td>\n",
              "    </tr>\n",
              "    <tr>\n",
              "      <th>...</th>\n",
              "      <td>...</td>\n",
              "      <td>...</td>\n",
              "      <td>...</td>\n",
              "      <td>...</td>\n",
              "      <td>...</td>\n",
              "      <td>...</td>\n",
              "      <td>...</td>\n",
              "      <td>...</td>\n",
              "      <td>...</td>\n",
              "      <td>...</td>\n",
              "      <td>...</td>\n",
              "      <td>...</td>\n",
              "      <td>...</td>\n",
              "      <td>...</td>\n",
              "      <td>...</td>\n",
              "      <td>...</td>\n",
              "      <td>...</td>\n",
              "      <td>...</td>\n",
              "    </tr>\n",
              "    <tr>\n",
              "      <th>1921036</th>\n",
              "      <td>2015-12-07</td>\n",
              "      <td>Consumer Loan</td>\n",
              "      <td>Vehicle loan</td>\n",
              "      <td>Taking out the loan or lease</td>\n",
              "      <td>NaN</td>\n",
              "      <td>My vehicle, originally financed with Capital O...</td>\n",
              "      <td>NaN</td>\n",
              "      <td>CAPITAL ONE FINANCIAL CORPORATION</td>\n",
              "      <td>TX</td>\n",
              "      <td>76120</td>\n",
              "      <td>NaN</td>\n",
              "      <td>Consent provided</td>\n",
              "      <td>Web</td>\n",
              "      <td>2015-12-07</td>\n",
              "      <td>Closed with explanation</td>\n",
              "      <td>Yes</td>\n",
              "      <td>No</td>\n",
              "      <td>1685412</td>\n",
              "    </tr>\n",
              "    <tr>\n",
              "      <th>1822559</th>\n",
              "      <td>2016-05-31</td>\n",
              "      <td>Consumer Loan</td>\n",
              "      <td>Installment loan</td>\n",
              "      <td>Managing the loan or lease</td>\n",
              "      <td>NaN</td>\n",
              "      <td>Due to new information I 'm submitting a new i...</td>\n",
              "      <td>Company believes the complaint is the result o...</td>\n",
              "      <td>Ditech Financial LLC</td>\n",
              "      <td>OR</td>\n",
              "      <td>97520</td>\n",
              "      <td>NaN</td>\n",
              "      <td>Consent provided</td>\n",
              "      <td>Web</td>\n",
              "      <td>2016-06-02</td>\n",
              "      <td>Closed with explanation</td>\n",
              "      <td>Yes</td>\n",
              "      <td>No</td>\n",
              "      <td>1947823</td>\n",
              "    </tr>\n",
              "    <tr>\n",
              "      <th>3181052</th>\n",
              "      <td>2016-03-28</td>\n",
              "      <td>Consumer Loan</td>\n",
              "      <td>Vehicle loan</td>\n",
              "      <td>Managing the loan or lease</td>\n",
              "      <td>NaN</td>\n",
              "      <td>Debt on my credit for {$3000.00} states a char...</td>\n",
              "      <td>Company has responded to the consumer and the ...</td>\n",
              "      <td>WELLS FARGO &amp; COMPANY</td>\n",
              "      <td>WI</td>\n",
              "      <td>53227</td>\n",
              "      <td>NaN</td>\n",
              "      <td>Consent provided</td>\n",
              "      <td>Web</td>\n",
              "      <td>2016-03-28</td>\n",
              "      <td>Closed with explanation</td>\n",
              "      <td>Yes</td>\n",
              "      <td>Yes</td>\n",
              "      <td>1851465</td>\n",
              "    </tr>\n",
              "    <tr>\n",
              "      <th>2612407</th>\n",
              "      <td>2015-04-08</td>\n",
              "      <td>Consumer Loan</td>\n",
              "      <td>Vehicle loan</td>\n",
              "      <td>Problems when you are unable to pay</td>\n",
              "      <td>NaN</td>\n",
              "      <td>24 % interest rate high pmts refuses to help w...</td>\n",
              "      <td>NaN</td>\n",
              "      <td>Santander Consumer USA Holdings Inc.</td>\n",
              "      <td>GA</td>\n",
              "      <td>30650.0</td>\n",
              "      <td>NaN</td>\n",
              "      <td>Consent provided</td>\n",
              "      <td>Web</td>\n",
              "      <td>2015-04-08</td>\n",
              "      <td>Closed with explanation</td>\n",
              "      <td>Yes</td>\n",
              "      <td>No</td>\n",
              "      <td>1320770</td>\n",
              "    </tr>\n",
              "    <tr>\n",
              "      <th>2629461</th>\n",
              "      <td>2016-11-29</td>\n",
              "      <td>Consumer Loan</td>\n",
              "      <td>Vehicle loan</td>\n",
              "      <td>Managing the loan or lease</td>\n",
              "      <td>NaN</td>\n",
              "      <td>Nissan hit me with a 30-day late fee for my ca...</td>\n",
              "      <td>NaN</td>\n",
              "      <td>NISSAN MOTOR ACCEPTANCE COMPANY LLC</td>\n",
              "      <td>TX</td>\n",
              "      <td>78620</td>\n",
              "      <td>NaN</td>\n",
              "      <td>Consent provided</td>\n",
              "      <td>Web</td>\n",
              "      <td>2016-11-29</td>\n",
              "      <td>Closed with explanation</td>\n",
              "      <td>Yes</td>\n",
              "      <td>No</td>\n",
              "      <td>2228149</td>\n",
              "    </tr>\n",
              "  </tbody>\n",
              "</table>\n",
              "<p>94260 rows × 18 columns</p>\n",
              "</div>\n",
              "      <button class=\"colab-df-convert\" onclick=\"convertToInteractive('df-0ddee5c9-39bf-436f-a955-17f86290b634')\"\n",
              "              title=\"Convert this dataframe to an interactive table.\"\n",
              "              style=\"display:none;\">\n",
              "        \n",
              "  <svg xmlns=\"http://www.w3.org/2000/svg\" height=\"24px\"viewBox=\"0 0 24 24\"\n",
              "       width=\"24px\">\n",
              "    <path d=\"M0 0h24v24H0V0z\" fill=\"none\"/>\n",
              "    <path d=\"M18.56 5.44l.94 2.06.94-2.06 2.06-.94-2.06-.94-.94-2.06-.94 2.06-2.06.94zm-11 1L8.5 8.5l.94-2.06 2.06-.94-2.06-.94L8.5 2.5l-.94 2.06-2.06.94zm10 10l.94 2.06.94-2.06 2.06-.94-2.06-.94-.94-2.06-.94 2.06-2.06.94z\"/><path d=\"M17.41 7.96l-1.37-1.37c-.4-.4-.92-.59-1.43-.59-.52 0-1.04.2-1.43.59L10.3 9.45l-7.72 7.72c-.78.78-.78 2.05 0 2.83L4 21.41c.39.39.9.59 1.41.59.51 0 1.02-.2 1.41-.59l7.78-7.78 2.81-2.81c.8-.78.8-2.07 0-2.86zM5.41 20L4 18.59l7.72-7.72 1.47 1.35L5.41 20z\"/>\n",
              "  </svg>\n",
              "      </button>\n",
              "      \n",
              "  <style>\n",
              "    .colab-df-container {\n",
              "      display:flex;\n",
              "      flex-wrap:wrap;\n",
              "      gap: 12px;\n",
              "    }\n",
              "\n",
              "    .colab-df-convert {\n",
              "      background-color: #E8F0FE;\n",
              "      border: none;\n",
              "      border-radius: 50%;\n",
              "      cursor: pointer;\n",
              "      display: none;\n",
              "      fill: #1967D2;\n",
              "      height: 32px;\n",
              "      padding: 0 0 0 0;\n",
              "      width: 32px;\n",
              "    }\n",
              "\n",
              "    .colab-df-convert:hover {\n",
              "      background-color: #E2EBFA;\n",
              "      box-shadow: 0px 1px 2px rgba(60, 64, 67, 0.3), 0px 1px 3px 1px rgba(60, 64, 67, 0.15);\n",
              "      fill: #174EA6;\n",
              "    }\n",
              "\n",
              "    [theme=dark] .colab-df-convert {\n",
              "      background-color: #3B4455;\n",
              "      fill: #D2E3FC;\n",
              "    }\n",
              "\n",
              "    [theme=dark] .colab-df-convert:hover {\n",
              "      background-color: #434B5C;\n",
              "      box-shadow: 0px 1px 3px 1px rgba(0, 0, 0, 0.15);\n",
              "      filter: drop-shadow(0px 1px 2px rgba(0, 0, 0, 0.3));\n",
              "      fill: #FFFFFF;\n",
              "    }\n",
              "  </style>\n",
              "\n",
              "      <script>\n",
              "        const buttonEl =\n",
              "          document.querySelector('#df-0ddee5c9-39bf-436f-a955-17f86290b634 button.colab-df-convert');\n",
              "        buttonEl.style.display =\n",
              "          google.colab.kernel.accessAllowed ? 'block' : 'none';\n",
              "\n",
              "        async function convertToInteractive(key) {\n",
              "          const element = document.querySelector('#df-0ddee5c9-39bf-436f-a955-17f86290b634');\n",
              "          const dataTable =\n",
              "            await google.colab.kernel.invokeFunction('convertToInteractive',\n",
              "                                                     [key], {});\n",
              "          if (!dataTable) return;\n",
              "\n",
              "          const docLinkHtml = 'Like what you see? Visit the ' +\n",
              "            '<a target=\"_blank\" href=https://colab.research.google.com/notebooks/data_table.ipynb>data table notebook</a>'\n",
              "            + ' to learn more about interactive tables.';\n",
              "          element.innerHTML = '';\n",
              "          dataTable['output_type'] = 'display_data';\n",
              "          await google.colab.output.renderOutput(dataTable, element);\n",
              "          const docLink = document.createElement('div');\n",
              "          docLink.innerHTML = docLinkHtml;\n",
              "          element.appendChild(docLink);\n",
              "        }\n",
              "      </script>\n",
              "    </div>\n",
              "  </div>\n",
              "  "
            ]
          },
          "metadata": {},
          "execution_count": 16
        }
      ]
    },
    {
      "cell_type": "code",
      "source": [
        "get_entropy(data['Product'].values)"
      ],
      "metadata": {
        "colab": {
          "base_uri": "https://localhost:8080/"
        },
        "id": "FbH1n0llB93Y",
        "outputId": "9a29c7d8-2a6b-419e-aac4-b83bda360411"
      },
      "execution_count": null,
      "outputs": [
        {
          "output_type": "stream",
          "name": "stdout",
          "text": [
            "---------------------------------  -------------  ---------------------------  ----------------------------------------------------------------------------  ---------------  --------------------------------------------------  --------  -----------------------------------------  ------------  ---------------------\n",
            "Bank, checking or savings account  Consumer Loan  Credit card or prepaid card  Credit reporting, credit repair services, or other personal consumer reports  Debt collection  Money transfer, virtual currency, or money service  Mortgage  Payday loan, title loan, or personal loan  Student loan  Vehicle loan or lease\n",
            "9426                               9426           9426                         9426                                                                          9426             9426                                                9426      9426                                       9426          9426\n",
            "10.00%                             10.00%         10.00%                       10.00%                                                                        10.00%           10.00%                                              10.00%    10.00%                                     10.00%        10.00%\n",
            "---------------------------------  -------------  ---------------------------  ----------------------------------------------------------------------------  ---------------  --------------------------------------------------  --------  -----------------------------------------  ------------  ---------------------\n",
            "\n",
            "Shannon Entropy: 100.0000%\n"
          ]
        }
      ]
    },
    {
      "cell_type": "code",
      "source": [
        "df[focus].value_counts().plot.bar(figsize=(15,8), title=\"Number of Complaints for each Category\", xlabel=\"Product\", ylabel=\"Number of complaints\")"
      ],
      "metadata": {
        "colab": {
          "base_uri": "https://localhost:8080/",
          "height": 895
        },
        "outputId": "4d7f8c3a-d83a-466f-a747-1ba31afbcc89",
        "id": "HCVuLl3b-bxL"
      },
      "execution_count": null,
      "outputs": [
        {
          "output_type": "execute_result",
          "data": {
            "text/plain": [
              "<matplotlib.axes._subplots.AxesSubplot at 0x7f1b35b20a60>"
            ]
          },
          "metadata": {},
          "execution_count": 18
        },
        {
          "output_type": "display_data",
          "data": {
            "text/plain": [
              "<Figure size 1080x576 with 1 Axes>"
            ],
            "image/png": "[encoded data removed]"
          },
          "metadata": {
            "needs_background": "light"
          }
        }
      ]
    },
    {
      "cell_type": "markdown",
      "source": [
        "## train - test split"
      ],
      "metadata": {
        "id": "E9HiiXf-bjc1"
      }
    },
    {
      "cell_type": "code",
      "source": [
        "train, test = train_test_split(df, test_size = 0.15, random_state=1)"
      ],
      "metadata": {
        "id": "KuqGkQomfMqn"
      },
      "execution_count": null,
      "outputs": []
    },
    {
      "cell_type": "code",
      "source": [
        "print(\"Number of Documents in train: \" + str(train.shape[0]))\n",
        "print(\"Number of Documents in test: \" + str(test.shape[0]))"
      ],
      "metadata": {
        "colab": {
          "base_uri": "https://localhost:8080/"
        },
        "id": "l9TsqR-OZDOX",
        "outputId": "27a3a488-7c92-4054-dfc2-63f07b7271e9"
      },
      "execution_count": null,
      "outputs": [
        {
          "output_type": "stream",
          "name": "stdout",
          "text": [
            "Number of Documents in train: 80121\n",
            "Number of Documents in test: 14139\n"
          ]
        }
      ]
    },
    {
      "cell_type": "code",
      "source": [
        "get_entropy(train['Product'].values)"
      ],
      "metadata": {
        "colab": {
          "base_uri": "https://localhost:8080/"
        },
        "id": "ieNqisBOtf24",
        "outputId": "9d5f078d-903d-48e2-8f33-11d6ee17147e"
      },
      "execution_count": null,
      "outputs": [
        {
          "output_type": "stream",
          "name": "stdout",
          "text": [
            "---------------------------------  -------------  ---------------------------  ----------------------------------------------------------------------------  ---------------  --------------------------------------------------  --------  -----------------------------------------  ------------  ---------------------\n",
            "Bank, checking or savings account  Consumer Loan  Credit card or prepaid card  Credit reporting, credit repair services, or other personal consumer reports  Debt collection  Money transfer, virtual currency, or money service  Mortgage  Payday loan, title loan, or personal loan  Student loan  Vehicle loan or lease\n",
            "7981                               8061           7909                         7998                                                                          8040             7985                                                8017      8016                                       8075          8039\n",
            "9.96%                              10.06%         9.87%                        9.98%                                                                         10.03%           9.97%                                               10.01%    10.00%                                     10.08%        10.03%\n",
            "---------------------------------  -------------  ---------------------------  ----------------------------------------------------------------------------  ---------------  --------------------------------------------------  --------  -----------------------------------------  ------------  ---------------------\n",
            "\n",
            "Shannon Entropy: 99.9993%\n"
          ]
        }
      ]
    },
    {
      "cell_type": "code",
      "source": [
        "get_entropy(test['Product'].values)"
      ],
      "metadata": {
        "colab": {
          "base_uri": "https://localhost:8080/"
        },
        "id": "Ufei2FBUAvTj",
        "outputId": "d95a8f7f-d926-4a76-cd2d-715d6b9f2270"
      },
      "execution_count": null,
      "outputs": [
        {
          "output_type": "stream",
          "name": "stdout",
          "text": [
            "---------------------------------  -------------  ---------------------------  ----------------------------------------------------------------------------  ---------------  --------------------------------------------------  --------  -----------------------------------------  ------------  ---------------------\n",
            "Bank, checking or savings account  Consumer Loan  Credit card or prepaid card  Credit reporting, credit repair services, or other personal consumer reports  Debt collection  Money transfer, virtual currency, or money service  Mortgage  Payday loan, title loan, or personal loan  Student loan  Vehicle loan or lease\n",
            "1445                               1365           1517                         1428                                                                          1386             1441                                                1409      1410                                       1351          1387\n",
            "10.22%                             9.65%          10.73%                       10.10%                                                                        9.80%            10.19%                                              9.97%     9.97%                                      9.56%         9.81%\n",
            "---------------------------------  -------------  ---------------------------  ----------------------------------------------------------------------------  ---------------  --------------------------------------------------  --------  -----------------------------------------  ------------  ---------------------\n",
            "\n",
            "Shannon Entropy: 99.9780%\n"
          ]
        }
      ]
    },
    {
      "cell_type": "code",
      "source": [
        "train[focus].value_counts().plot.bar(figsize=(15,8), title=\"Number of Complaints for each Category\", xlabel=\"Product\", ylabel=\"Number of complaints\")"
      ],
      "metadata": {
        "colab": {
          "base_uri": "https://localhost:8080/",
          "height": 895
        },
        "id": "ee5Fj40VY9mg",
        "outputId": "fcbd3be9-db5b-454c-ede3-efe83c0ccd76"
      },
      "execution_count": null,
      "outputs": [
        {
          "output_type": "execute_result",
          "data": {
            "text/plain": [
              "<matplotlib.axes._subplots.AxesSubplot at 0x7f1b357a3970>"
            ]
          },
          "metadata": {},
          "execution_count": 21
        },
        {
          "output_type": "display_data",
          "data": {
            "text/plain": [
              "<Figure size 1080x576 with 1 Axes>"
            ],
            "image/png": "[encoded data removed]"
          },
          "metadata": {
            "needs_background": "light"
          }
        }
      ]
    },
    {
      "cell_type": "code",
      "source": [
        "test[focus].value_counts().plot.bar(figsize=(15,8), title=\"Number of Complaints for each Category\", xlabel=\"Product\", ylabel=\"Number of complaints\")"
      ],
      "metadata": {
        "colab": {
          "base_uri": "https://localhost:8080/",
          "height": 895
        },
        "id": "AhEgzQ1HY_L9",
        "outputId": "381dd613-afa7-4202-e5e0-7410aac500fb"
      },
      "execution_count": null,
      "outputs": [
        {
          "output_type": "execute_result",
          "data": {
            "text/plain": [
              "<matplotlib.axes._subplots.AxesSubplot at 0x7f1b35735820>"
            ]
          },
          "metadata": {},
          "execution_count": 22
        },
        {
          "output_type": "display_data",
          "data": {
            "text/plain": [
              "<Figure size 1080x576 with 1 Axes>"
            ],
            "image/png": "[encoded data removed]"
          },
          "metadata": {
            "needs_background": "light"
          }
        }
      ]
    },
    {
      "cell_type": "markdown",
      "source": [
        "# Save"
      ],
      "metadata": {
        "id": "HCC9BM7ppFiN"
      }
    },
    {
      "cell_type": "markdown",
      "source": [
        "The balanced dataset will now be saved with the appendix \"_nopreprocess\", as the textual preprocssing steps will be done in [another Notebook](https://colab.research.google.com/drive/1in0CLK2aOCuzsYlCLqyAyg28B3YNE6YC?usp=sharing)."
      ],
      "metadata": {
        "id": "Fss5C7G1MEf5"
      }
    },
    {
      "cell_type": "code",
      "source": [
        "train.to_csv(\"/content/drive/MyDrive/Bachelor Thesis/Datasets/train_nopreprocess.csv\", sep='\\t', index=False)\n",
        "test.to_csv(\"/content/drive/MyDrive/Bachelor Thesis/Datasets/test_nopreprocess.csv\", sep='\\t', index=False)"
      ],
      "metadata": {
        "id": "8lvAfuQuMDu-"
      },
      "execution_count": null,
      "outputs": []
    }
  ]
}