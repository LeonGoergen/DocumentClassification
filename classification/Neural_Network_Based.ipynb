{
  "cells": [
    {
      "cell_type": "markdown",
      "metadata": {
        "id": "view-in-github",
        "colab_type": "text"
      },
      "source": [
        "<a href=\"https://colab.research.google.com/github/LeonGoergen/DocumentClassification/blob/main/classification/Neural_Network_Based.ipynb\" target=\"_parent\"><img src=\"https://colab.research.google.com/assets/colab-badge.svg\" alt=\"Open In Colab\"/></a>"
      ]
    },
    {
      "cell_type": "markdown",
      "source": [
        "The [Keras Documentation](https://keras.io/api/) will give a comprehensive overview on the different layers and hyperparameters."
      ],
      "metadata": {
        "id": "JqsARL0FfS-a"
      }
    },
    {
      "cell_type": "markdown",
      "metadata": {
        "id": "T8zw0PVUMwpX"
      },
      "source": [
        "# Dependencies"
      ]
    },
    {
      "cell_type": "markdown",
      "metadata": {
        "id": "u_-GExWWRCtU"
      },
      "source": [
        "## Imports"
      ]
    },
    {
      "cell_type": "code",
      "execution_count": null,
      "metadata": {
        "id": "K5aAL2wl9qJK"
      },
      "outputs": [],
      "source": [
        "# Text Encoding\n",
        "from keras.preprocessing.text import Tokenizer\n",
        "from keras.preprocessing import sequence\n",
        "from keras.utils import pad_sequences\n",
        "\n",
        "# Neural Network Layers\n",
        "from tensorflow import keras\n",
        "from keras.models import Sequential\n",
        "from keras.layers import Dense, Embedding, LSTM, SpatialDropout1D, Flatten, Conv1D, MaxPooling1D, GRU, Bidirectional\n",
        "from keras.utils.np_utils import to_categorical\n",
        "from keras.callbacks import EarlyStopping, ModelCheckpoint,  Callback\n",
        "from keras.layers import Dropout\n",
        "\n",
        "# For Data Management\n",
        "from sklearn.model_selection import train_test_split\n",
        "import numpy as np\n",
        "import pandas as pd\n",
        "import re\n",
        "import pickle\n",
        "import json\n",
        "\n",
        "# Evaluation Metrics\n",
        "from sklearn.metrics import accuracy_score, precision_score, recall_score, f1_score\n",
        "from sklearn.metrics import confusion_matrix\n",
        "from sklearn import metrics\n",
        "import time\n",
        "\n",
        "# for plotting\n",
        "import matplotlib.pyplot as plt\n",
        "import seaborn as sns\n",
        "from tqdm import tqdm"
      ]
    },
    {
      "cell_type": "code",
      "execution_count": null,
      "metadata": {
        "colab": {
          "base_uri": "https://localhost:8080/"
        },
        "id": "53GM1qnj-I8F",
        "outputId": "664e840e-0ff7-4cf8-c9a1-e9268df9b916"
      },
      "outputs": [
        {
          "output_type": "stream",
          "name": "stdout",
          "text": [
            "Mounted at /content/drive\n"
          ]
        }
      ],
      "source": [
        "from google.colab import drive\n",
        "drive.mount('/content/drive')"
      ]
    },
    {
      "cell_type": "markdown",
      "metadata": {
        "id": "IWQd2EZ7REkS"
      },
      "source": [
        "## Data"
      ]
    },
    {
      "cell_type": "code",
      "execution_count": null,
      "metadata": {
        "id": "b4jxSpDM-I-l"
      },
      "outputs": [],
      "source": [
        "train = pd.read_csv('/content/drive/MyDrive/Bachelor Thesis/Datasets/train.csv', sep=\"\\t\", header=0)\n",
        "test = pd.read_csv('/content/drive/MyDrive/Bachelor Thesis/Datasets/test.csv', sep=\"\\t\", header=0)"
      ]
    },
    {
      "cell_type": "code",
      "execution_count": null,
      "metadata": {
        "id": "4PQ4xB2cBQBL"
      },
      "outputs": [],
      "source": [
        "label_target = 'Product'\n",
        "content_target = 'Consumer complaint narrative'\n",
        "\n",
        "num_labels = train[label_target].nunique()"
      ]
    },
    {
      "cell_type": "markdown",
      "metadata": {
        "id": "FChtxU2JRIAT"
      },
      "source": [
        "## Functions"
      ]
    },
    {
      "cell_type": "code",
      "execution_count": null,
      "metadata": {
        "id": "63O3yhSxYXDz"
      },
      "outputs": [],
      "source": [
        "def calculate_accuracy(y_actu, y_pred):\n",
        "    return accuracy_score(y_actu, y_pred)\n",
        "\n",
        "def calculate_precision(y_actu, y_pred,average='macro'):\n",
        "    return precision_score(y_actu, y_pred,average=average)\n",
        "\n",
        "def calculate_recall(y_actu, y_pred,average='macro'):\n",
        "    return recall_score(y_actu, y_pred,average=average)\n",
        "\n",
        "def calculate_f1(y_actu, y_pred,average='macro'):\n",
        "    return f1_score(y_actu, y_pred,average=average)\n",
        "\n",
        "def save_results(metrics, algorithm, method):\n",
        "    name = \"/content/drive/MyDrive/Bachelor Thesis/Classification/Results/\" + algorithm + method + \".json\"\n",
        "    with open(name, \"w\") as outfile:\n",
        "        json.dump(metrics, outfile)\n",
        "\n",
        "def evaluate_model(y_actu, y_pred, time, training_time, algorithm, method=\"\"):\n",
        "    metrics = {}\n",
        "    metrics[\"Algorithm\"] = algorithm\n",
        "    metrics[\"Method\"] = method\n",
        "    metrics[\"Accuracy\"] = round(calculate_accuracy(y_actu, y_pred)*100, 4)\n",
        "    metrics[\"Precision (Macro Average)\"] = round(calculate_precision(y_actu, y_pred,average='macro')*100, 4)\n",
        "    metrics[\"Precision (Micro Average)\"] = round(calculate_precision(y_actu, y_pred,average='micro')*100, 4)\n",
        "    metrics[\"Recall (Macro Average)\"] = round(calculate_recall(y_actu, y_pred,average='macro')*100, 4)\n",
        "    metrics[\"Recall (Micro Average)\"] = round(calculate_recall(y_actu, y_pred,average='micro')*100, 4)\n",
        "    metrics[\"F1-Score (Macro Average)\"] = round(calculate_f1(y_actu, y_pred,average='macro')*100, 4)\n",
        "    metrics[\"F1-Score (Micro Average)\"] = round(calculate_f1(y_actu, y_pred,average='micro')*100, 4)\n",
        "    metrics[\"time per document (ms)\"] = time\n",
        "    metrics[\"training time (min)\"] = training_time\n",
        "\n",
        "    save_results(metrics, algorithm, method)\n",
        "\n",
        "    return metrics"
      ]
    },
    {
      "cell_type": "code",
      "execution_count": null,
      "metadata": {
        "id": "hLb_hZUFSqPq"
      },
      "outputs": [],
      "source": [
        "def plot_confusion_matrix(y_true, y_pred, labels):\n",
        "    cm = confusion_matrix(y_true, y_pred)\n",
        "    plt.figure(figsize=(10,10))\n",
        "    sns.heatmap(cm, annot=True, fmt=\"d\", cbar=False, xticklabels=labels, yticklabels=labels)\n",
        "    plt.xlabel(\"Predicted Label\")\n",
        "    plt.ylabel(\"Actual Label\")\n",
        "    plt.show()"
      ]
    },
    {
      "cell_type": "markdown",
      "metadata": {
        "id": "ngNgu5TVN8a_"
      },
      "source": [
        "# LSTM\n",
        "Long short-term memory networks"
      ]
    },
    {
      "cell_type": "markdown",
      "metadata": {
        "id": "YNaytgG6Qe8C"
      },
      "source": [
        "## Setup Data"
      ]
    },
    {
      "cell_type": "code",
      "execution_count": null,
      "metadata": {
        "id": "twxwO3l-ROxj"
      },
      "outputs": [],
      "source": [
        "tokenizer = Tokenizer(num_words=10000, filters='!\"#$%&()*+,-./:;<=>?@[\\]^_`{|}~', lower=True)\n",
        "tokenizer.fit_on_texts(train[content_target].values.astype(\"str\"))\n",
        "\n",
        "sequences = tokenizer.texts_to_sequences(train[content_target].values.astype(\"str\"))\n",
        "padded = pad_sequences(sequences, maxlen=512)\n",
        "\n",
        "labels = pd.get_dummies(train[label_target]).values"
      ]
    },
    {
      "cell_type": "code",
      "execution_count": null,
      "metadata": {
        "id": "tI7Jj0czTdvl"
      },
      "outputs": [],
      "source": [
        "X_train, X_test, Y_train, Y_test = train_test_split(padded, labels, test_size = 0.15, random_state = 1)"
      ]
    },
    {
      "cell_type": "markdown",
      "metadata": {
        "id": "nMFefRDJQoPo"
      },
      "source": [
        "## Train Model"
      ]
    },
    {
      "cell_type": "code",
      "execution_count": null,
      "metadata": {
        "id": "zxvFdrfRT2hP"
      },
      "outputs": [],
      "source": [
        "model = Sequential()\n",
        "model.add(Embedding(10000, 100, input_length=padded.shape[1]))\n",
        "model.add(SpatialDropout1D(0.2))\n",
        "model.add(LSTM(128, dropout=0.2, recurrent_dropout=0.2))\n",
        "model.add(Dense(num_labels, activation='softmax'))"
      ]
    },
    {
      "cell_type": "code",
      "execution_count": null,
      "metadata": {
        "colab": {
          "base_uri": "https://localhost:8080/"
        },
        "id": "BylM9_-WFKzu",
        "outputId": "959f15bb-733e-40f4-aee3-b776f32ef3fc"
      },
      "outputs": [
        {
          "name": "stdout",
          "output_type": "stream",
          "text": [
            "Model: \"sequential_6\"\n",
            "_________________________________________________________________\n",
            " Layer (type)                Output Shape              Param #   \n",
            "=================================================================\n",
            " embedding_6 (Embedding)     (None, 512, 100)          1000000   \n",
            "                                                                 \n",
            " spatial_dropout1d_3 (Spatia  (None, 512, 100)         0         \n",
            " lDropout1D)                                                     \n",
            "                                                                 \n",
            " lstm_4 (LSTM)               (None, 128)               117248    \n",
            "                                                                 \n",
            " dense_7 (Dense)             (None, 10)                1290      \n",
            "                                                                 \n",
            "=================================================================\n",
            "Total params: 1,118,538\n",
            "Trainable params: 1,118,538\n",
            "Non-trainable params: 0\n",
            "_________________________________________________________________\n"
          ]
        }
      ],
      "source": [
        "model.compile(loss='categorical_crossentropy', optimizer='adam', metrics=['accuracy'])\n",
        "model.summary()"
      ]
    },
    {
      "cell_type": "code",
      "execution_count": null,
      "metadata": {
        "colab": {
          "background_save": true,
          "base_uri": "https://localhost:8080/"
        },
        "id": "toOC9cQaUfPa",
        "outputId": "f9cff6e0-05d1-4e98-9645-267a6b3d3a63"
      },
      "outputs": [
        {
          "name": "stdout",
          "output_type": "stream",
          "text": [
            "Epoch 1/30\n",
            "958/958 [==============================] - 1704s 2s/step - loss: 1.6144 - accuracy: 0.3935 - val_loss: 1.2323 - val_accuracy: 0.5410\n",
            "Epoch 2/30\n",
            "958/958 [==============================] - 1715s 2s/step - loss: 1.1449 - accuracy: 0.5977 - val_loss: 1.0900 - val_accuracy: 0.6412\n",
            "Epoch 3/30\n",
            "958/958 [==============================] - 1716s 2s/step - loss: 1.0958 - accuracy: 0.6187 - val_loss: 1.0473 - val_accuracy: 0.6443\n",
            "Epoch 4/30\n",
            "958/958 [==============================] - 1724s 2s/step - loss: 0.8581 - accuracy: 0.7107 - val_loss: 0.8815 - val_accuracy: 0.6967\n",
            "Epoch 5/30\n",
            "958/958 [==============================] - 1739s 2s/step - loss: 0.7697 - accuracy: 0.7366 - val_loss: 0.8843 - val_accuracy: 0.7049\n",
            "Epoch 6/30\n",
            "958/958 [==============================] - 1734s 2s/step - loss: 0.9423 - accuracy: 0.6856 - val_loss: 1.1597 - val_accuracy: 0.6193\n",
            "Epoch 7/30\n",
            "958/958 [==============================] - 1729s 2s/step - loss: 0.7503 - accuracy: 0.7434 - val_loss: 0.8374 - val_accuracy: 0.7144\n",
            "Epoch 8/30\n",
            "958/958 [==============================] - 1719s 2s/step - loss: 0.6670 - accuracy: 0.7710 - val_loss: 0.8366 - val_accuracy: 0.7194\n",
            "Epoch 9/30\n",
            "958/958 [==============================] - 1713s 2s/step - loss: 0.6291 - accuracy: 0.7867 - val_loss: 0.8256 - val_accuracy: 0.7291\n",
            "Epoch 10/30\n",
            "958/958 [==============================] - 1722s 2s/step - loss: 0.5781 - accuracy: 0.8061 - val_loss: 0.8401 - val_accuracy: 0.7285\n",
            "Epoch 11/30\n",
            "958/958 [==============================] - 1725s 2s/step - loss: 0.5440 - accuracy: 0.8200 - val_loss: 0.8266 - val_accuracy: 0.7326\n",
            "Epoch 12/30\n",
            "958/958 [==============================] - 1713s 2s/step - loss: 0.4971 - accuracy: 0.8352 - val_loss: 0.8505 - val_accuracy: 0.7318\n"
          ]
        }
      ],
      "source": [
        "epochs = 30\n",
        "batch_size = 64\n",
        "\n",
        "start = time.time()\n",
        "history = model.fit(X_train, Y_train, epochs=epochs, batch_size=batch_size,validation_split=0.1,callbacks=[EarlyStopping(monitor='val_loss', patience=3, min_delta=0.0001)])\n",
        "training_time = time.time() - start\n",
        "\n",
        "print(training_time)"
      ]
    },
    {
      "cell_type": "code",
      "execution_count": null,
      "metadata": {
        "colab": {
          "background_save": true
        },
        "id": "fPqSJNlAT9p_",
        "outputId": "fd7b526e-448a-4607-f4a8-3bee6305c2e1"
      },
      "outputs": [
        {
          "name": "stdout",
          "output_type": "stream",
          "text": [
            "  adding: content/lstm/ (stored 0%)\n",
            "  adding: content/lstm/saved_model.pb (deflated 89%)\n",
            "  adding: content/lstm/keras_metadata.pb (deflated 87%)\n",
            "  adding: content/lstm/assets/ (stored 0%)\n",
            "  adding: content/lstm/variables/ (stored 0%)\n",
            "  adding: content/lstm/variables/variables.index (deflated 60%)\n",
            "  adding: content/lstm/variables/variables.data-00000-of-00001 (deflated 7%)\n"
          ]
        }
      ],
      "source": [
        "model.save('/content/lstm')\n",
        "!zip -r '/content/drive/MyDrive/Bachelor Thesis/Classification/Models/lstm_model_nolemma.zip' '/content/lstm'\n",
        "with open('/content/drive/MyDrive/Bachelor Thesis/Classification/Models/lstm_tokenizer_nolemma.pkl', 'wb') as handle:\n",
        "    pickle.dump(tokenizer, handle, protocol=pickle.HIGHEST_PROTOCOL)"
      ]
    },
    {
      "cell_type": "markdown",
      "metadata": {
        "id": "Q9GQIXDmQ_W5"
      },
      "source": [
        "### Evaluate Training"
      ]
    },
    {
      "cell_type": "code",
      "execution_count": null,
      "metadata": {
        "colab": {
          "background_save": true
        },
        "id": "z3EcTPxQUz8l",
        "outputId": "d8cf8f36-6fb5-4e91-befa-50d0f32c8fb9"
      },
      "outputs": [
        {
          "data": {
            "image/png": "[encoded data removed]",
            "text/plain": [
              "<Figure size 432x288 with 1 Axes>"
            ]
          },
          "metadata": {},
          "output_type": "display_data"
        }
      ],
      "source": [
        "plt.plot(history.history['loss'], label='train')\n",
        "plt.plot(history.history['val_loss'], label='test')\n",
        "plt.xlabel(\"Epochs\")\n",
        "plt.ylabel(\"Loss\")\n",
        "plt.legend()\n",
        "plt.show();"
      ]
    },
    {
      "cell_type": "markdown",
      "metadata": {
        "id": "bMPvdb00RCCG"
      },
      "source": [
        "## Inference"
      ]
    },
    {
      "cell_type": "code",
      "execution_count": null,
      "metadata": {
        "colab": {
          "base_uri": "https://localhost:8080/"
        },
        "id": "CzWYRKzkSLVy",
        "outputId": "0f9313b0-b963-4f31-cf06-0f5594e2c71f"
      },
      "outputs": [
        {
          "output_type": "stream",
          "name": "stdout",
          "text": [
            "Archive:  /content/drive/MyDrive/Bachelor Thesis/Classification/Models/lstm_model_nolemma.zip\n",
            "   creating: /content/content/lstm/\n",
            "  inflating: /content/content/lstm/saved_model.pb  \n",
            "  inflating: /content/content/lstm/keras_metadata.pb  \n",
            "   creating: /content/content/lstm/assets/\n",
            "   creating: /content/content/lstm/variables/\n",
            "  inflating: /content/content/lstm/variables/variables.index  \n",
            "  inflating: /content/content/lstm/variables/variables.data-00000-of-00001  \n"
          ]
        }
      ],
      "source": [
        "with open('/content/drive/MyDrive/Bachelor Thesis/Classification/Models/lstm_tokenizer_nolemma.pkl', 'rb') as handle:\n",
        "    tokenizer = pickle.load(handle)\n",
        "!unzip -u \"/content/drive/MyDrive/Bachelor Thesis/Classification/Models/lstm_model_nolemma.zip\" -d \"/content/\"\n",
        "model = keras.models.load_model('/content/content/lstm')"
      ]
    },
    {
      "cell_type": "code",
      "execution_count": null,
      "metadata": {
        "colab": {
          "base_uri": "https://localhost:8080/"
        },
        "id": "hIVK8ep3VfOw",
        "outputId": "992718f1-a5ac-4fcc-9e81-5eaf0c7f44ed"
      },
      "outputs": [
        {
          "output_type": "stream",
          "name": "stderr",
          "text": [
            "100%|██████████| 14139/14139 [27:07<00:00,  8.69it/s]\n"
          ]
        }
      ],
      "source": [
        "labels = sorted(test[label_target].unique())\n",
        "predictions, y_actu, y_pred = [], [], []\n",
        "\n",
        "start_time = time.time()\n",
        "for index, row in tqdm(test.iterrows(), total=test.shape[0]):\n",
        "    # get text\n",
        "    new_text = [row[content_target]]\n",
        "\n",
        "    # tokenize and pad it\n",
        "    seq = tokenizer.texts_to_sequences(new_text)\n",
        "    padded = pad_sequences(seq, maxlen=512)\n",
        "\n",
        "    # predict the label\n",
        "    pred = model.predict(padded, verbose = 0)\n",
        "    pred_cat = labels[np.argmax(pred)]\n",
        "\n",
        "    # sort into lists\n",
        "    y_actu.append(row[label_target])\n",
        "    y_pred.append(pred_cat)\n",
        "    predictions.append([pred_cat, row[label_target], row[content_target], row['Complaint ID']])\n",
        "\n",
        "full_time = time.time() - start_time"
      ]
    },
    {
      "cell_type": "code",
      "source": [
        "results = pd.DataFrame(predictions, columns=['Prediction', 'Actual Answer', 'Textual Content', 'Complaint ID'])\n",
        "# results"
      ],
      "metadata": {
        "id": "KQ7NCxcHTNPE"
      },
      "execution_count": null,
      "outputs": []
    },
    {
      "cell_type": "markdown",
      "metadata": {
        "id": "jDrNysxCXdOQ"
      },
      "source": [
        "### Evaluation"
      ]
    },
    {
      "cell_type": "code",
      "execution_count": null,
      "metadata": {
        "colab": {
          "base_uri": "https://localhost:8080/",
          "height": 394
        },
        "id": "N1ZCHVO6XAis",
        "outputId": "d436d02b-7031-4cce-cee0-0ba02baf16e9"
      },
      "outputs": [
        {
          "output_type": "execute_result",
          "data": {
            "text/plain": [
              "                            0        1\n",
              "0                   Algorithm     LSTM\n",
              "1                      Method         \n",
              "2                    Accuracy  73.9232\n",
              "3   Precision (Macro Average)  73.7958\n",
              "4   Precision (Micro Average)  73.9232\n",
              "5      Recall (Macro Average)  73.8656\n",
              "6      Recall (Micro Average)  73.9232\n",
              "7    F1-Score (Macro Average)  73.7523\n",
              "8    F1-Score (Micro Average)  73.9232\n",
              "9      time per document (ms)   115.08\n",
              "10        training time (min)   343.92"
            ],
            "text/html": [
              "\n",
              "  <div id=\"df-9ede1695-5832-4d9b-bb06-574da20f8cb6\">\n",
              "    <div class=\"colab-df-container\">\n",
              "      <div>\n",
              "<style scoped>\n",
              "    .dataframe tbody tr th:only-of-type {\n",
              "        vertical-align: middle;\n",
              "    }\n",
              "\n",
              "    .dataframe tbody tr th {\n",
              "        vertical-align: top;\n",
              "    }\n",
              "\n",
              "    .dataframe thead th {\n",
              "        text-align: right;\n",
              "    }\n",
              "</style>\n",
              "<table border=\"1\" class=\"dataframe\">\n",
              "  <thead>\n",
              "    <tr style=\"text-align: right;\">\n",
              "      <th></th>\n",
              "      <th>0</th>\n",
              "      <th>1</th>\n",
              "    </tr>\n",
              "  </thead>\n",
              "  <tbody>\n",
              "    <tr>\n",
              "      <th>0</th>\n",
              "      <td>Algorithm</td>\n",
              "      <td>LSTM</td>\n",
              "    </tr>\n",
              "    <tr>\n",
              "      <th>1</th>\n",
              "      <td>Method</td>\n",
              "      <td></td>\n",
              "    </tr>\n",
              "    <tr>\n",
              "      <th>2</th>\n",
              "      <td>Accuracy</td>\n",
              "      <td>73.9232</td>\n",
              "    </tr>\n",
              "    <tr>\n",
              "      <th>3</th>\n",
              "      <td>Precision (Macro Average)</td>\n",
              "      <td>73.7958</td>\n",
              "    </tr>\n",
              "    <tr>\n",
              "      <th>4</th>\n",
              "      <td>Precision (Micro Average)</td>\n",
              "      <td>73.9232</td>\n",
              "    </tr>\n",
              "    <tr>\n",
              "      <th>5</th>\n",
              "      <td>Recall (Macro Average)</td>\n",
              "      <td>73.8656</td>\n",
              "    </tr>\n",
              "    <tr>\n",
              "      <th>6</th>\n",
              "      <td>Recall (Micro Average)</td>\n",
              "      <td>73.9232</td>\n",
              "    </tr>\n",
              "    <tr>\n",
              "      <th>7</th>\n",
              "      <td>F1-Score (Macro Average)</td>\n",
              "      <td>73.7523</td>\n",
              "    </tr>\n",
              "    <tr>\n",
              "      <th>8</th>\n",
              "      <td>F1-Score (Micro Average)</td>\n",
              "      <td>73.9232</td>\n",
              "    </tr>\n",
              "    <tr>\n",
              "      <th>9</th>\n",
              "      <td>time per document (ms)</td>\n",
              "      <td>115.08</td>\n",
              "    </tr>\n",
              "    <tr>\n",
              "      <th>10</th>\n",
              "      <td>training time (min)</td>\n",
              "      <td>343.92</td>\n",
              "    </tr>\n",
              "  </tbody>\n",
              "</table>\n",
              "</div>\n",
              "      <button class=\"colab-df-convert\" onclick=\"convertToInteractive('df-9ede1695-5832-4d9b-bb06-574da20f8cb6')\"\n",
              "              title=\"Convert this dataframe to an interactive table.\"\n",
              "              style=\"display:none;\">\n",
              "        \n",
              "  <svg xmlns=\"http://www.w3.org/2000/svg\" height=\"24px\"viewBox=\"0 0 24 24\"\n",
              "       width=\"24px\">\n",
              "    <path d=\"M0 0h24v24H0V0z\" fill=\"none\"/>\n",
              "    <path d=\"M18.56 5.44l.94 2.06.94-2.06 2.06-.94-2.06-.94-.94-2.06-.94 2.06-2.06.94zm-11 1L8.5 8.5l.94-2.06 2.06-.94-2.06-.94L8.5 2.5l-.94 2.06-2.06.94zm10 10l.94 2.06.94-2.06 2.06-.94-2.06-.94-.94-2.06-.94 2.06-2.06.94z\"/><path d=\"M17.41 7.96l-1.37-1.37c-.4-.4-.92-.59-1.43-.59-.52 0-1.04.2-1.43.59L10.3 9.45l-7.72 7.72c-.78.78-.78 2.05 0 2.83L4 21.41c.39.39.9.59 1.41.59.51 0 1.02-.2 1.41-.59l7.78-7.78 2.81-2.81c.8-.78.8-2.07 0-2.86zM5.41 20L4 18.59l7.72-7.72 1.47 1.35L5.41 20z\"/>\n",
              "  </svg>\n",
              "      </button>\n",
              "      \n",
              "  <style>\n",
              "    .colab-df-container {\n",
              "      display:flex;\n",
              "      flex-wrap:wrap;\n",
              "      gap: 12px;\n",
              "    }\n",
              "\n",
              "    .colab-df-convert {\n",
              "      background-color: #E8F0FE;\n",
              "      border: none;\n",
              "      border-radius: 50%;\n",
              "      cursor: pointer;\n",
              "      display: none;\n",
              "      fill: #1967D2;\n",
              "      height: 32px;\n",
              "      padding: 0 0 0 0;\n",
              "      width: 32px;\n",
              "    }\n",
              "\n",
              "    .colab-df-convert:hover {\n",
              "      background-color: #E2EBFA;\n",
              "      box-shadow: 0px 1px 2px rgba(60, 64, 67, 0.3), 0px 1px 3px 1px rgba(60, 64, 67, 0.15);\n",
              "      fill: #174EA6;\n",
              "    }\n",
              "\n",
              "    [theme=dark] .colab-df-convert {\n",
              "      background-color: #3B4455;\n",
              "      fill: #D2E3FC;\n",
              "    }\n",
              "\n",
              "    [theme=dark] .colab-df-convert:hover {\n",
              "      background-color: #434B5C;\n",
              "      box-shadow: 0px 1px 3px 1px rgba(0, 0, 0, 0.15);\n",
              "      filter: drop-shadow(0px 1px 2px rgba(0, 0, 0, 0.3));\n",
              "      fill: #FFFFFF;\n",
              "    }\n",
              "  </style>\n",
              "\n",
              "      <script>\n",
              "        const buttonEl =\n",
              "          document.querySelector('#df-9ede1695-5832-4d9b-bb06-574da20f8cb6 button.colab-df-convert');\n",
              "        buttonEl.style.display =\n",
              "          google.colab.kernel.accessAllowed ? 'block' : 'none';\n",
              "\n",
              "        async function convertToInteractive(key) {\n",
              "          const element = document.querySelector('#df-9ede1695-5832-4d9b-bb06-574da20f8cb6');\n",
              "          const dataTable =\n",
              "            await google.colab.kernel.invokeFunction('convertToInteractive',\n",
              "                                                     [key], {});\n",
              "          if (!dataTable) return;\n",
              "\n",
              "          const docLinkHtml = 'Like what you see? Visit the ' +\n",
              "            '<a target=\"_blank\" href=https://colab.research.google.com/notebooks/data_table.ipynb>data table notebook</a>'\n",
              "            + ' to learn more about interactive tables.';\n",
              "          element.innerHTML = '';\n",
              "          dataTable['output_type'] = 'display_data';\n",
              "          await google.colab.output.renderOutput(dataTable, element);\n",
              "          const docLink = document.createElement('div');\n",
              "          docLink.innerHTML = docLinkHtml;\n",
              "          element.appendChild(docLink);\n",
              "        }\n",
              "      </script>\n",
              "    </div>\n",
              "  </div>\n",
              "  "
            ]
          },
          "metadata": {},
          "execution_count": 12
        }
      ],
      "source": [
        "print(\"tested on \" + str(test.shape[0]) + \" documents\")\n",
        "\n",
        "evaluation = evaluate_model(y_actu, y_pred, round(full_time/test.shape[0]*1000, 2), round(training_time/60, 2), \"LSTM\")\n",
        "\n",
        "eval_df = pd.DataFrame(evaluation.items())\n",
        "eval_df"
      ]
    },
    {
      "cell_type": "code",
      "execution_count": null,
      "metadata": {
        "colab": {
          "base_uri": "https://localhost:8080/"
        },
        "id": "-3Pcc-b2XJHt",
        "outputId": "22943cea-587c-481f-9d1e-e4bfd08b0ae6"
      },
      "outputs": [
        {
          "output_type": "display_data",
          "data": {
            "text/plain": [
              "<Figure size 720x720 with 1 Axes>"
            ],
            "image/png": "[encoded data removed]"
          },
          "metadata": {
            "needs_background": "light"
          }
        }
      ],
      "source": [
        "plot_confusion_matrix(y_actu, y_pred, labels)"
      ]
    },
    {
      "cell_type": "markdown",
      "metadata": {
        "id": "XqVqa7JCmi6X"
      },
      "source": [
        "# Bi-LSTM\n",
        "Bidirectional long-short term memory"
      ]
    },
    {
      "cell_type": "markdown",
      "metadata": {
        "id": "k6VnmYdPHUZU"
      },
      "source": [
        "## Setup Data"
      ]
    },
    {
      "cell_type": "code",
      "execution_count": null,
      "metadata": {
        "id": "gydADs1BHUZU"
      },
      "outputs": [],
      "source": [
        "most_frequent = 10000\n",
        "max_length = 512"
      ]
    },
    {
      "cell_type": "code",
      "execution_count": null,
      "metadata": {
        "id": "RghqpQdzHUZV"
      },
      "outputs": [],
      "source": [
        "tokenizer = Tokenizer(num_words=most_frequent, filters='!\"#$%&()*+,-./:;<=>?@[\\]^_`{|}~', lower=True)\n",
        "tokenizer.fit_on_texts(train[content_target].values.astype(\"str\"))\n",
        "\n",
        "sequences = tokenizer.texts_to_sequences(train[content_target].values.astype(\"str\"))\n",
        "padded = pad_sequences(sequences, maxlen=max_length)\n",
        "\n",
        "labels = pd.get_dummies(train[label_target]).values"
      ]
    },
    {
      "cell_type": "code",
      "execution_count": null,
      "metadata": {
        "id": "x0XGdEbJHUZV"
      },
      "outputs": [],
      "source": [
        "X_train, X_test, Y_train, Y_test = train_test_split(padded, labels, test_size = 0.15, random_state = 1)"
      ]
    },
    {
      "cell_type": "markdown",
      "metadata": {
        "id": "n7gYHfbzHUZV"
      },
      "source": [
        "## Train Model"
      ]
    },
    {
      "cell_type": "code",
      "execution_count": null,
      "metadata": {
        "id": "bYwT1E31HamK"
      },
      "outputs": [],
      "source": [
        "model = Sequential()\n",
        "model.add(Embedding(most_frequent, 32, input_length = padded.shape[1]))\n",
        "model.add(Bidirectional(LSTM(128, return_sequences = False)))\n",
        "model.add(Dropout(0.2))\n",
        "model.add(Dense(num_labels, activation='softmax'))"
      ]
    },
    {
      "cell_type": "code",
      "execution_count": null,
      "metadata": {
        "colab": {
          "base_uri": "https://localhost:8080/"
        },
        "id": "rW11E7A_HUZV",
        "outputId": "ac6334f4-8f96-4148-b5fd-d45bc94adaea"
      },
      "outputs": [
        {
          "name": "stdout",
          "output_type": "stream",
          "text": [
            "Model: \"sequential\"\n",
            "_________________________________________________________________\n",
            " Layer (type)                Output Shape              Param #   \n",
            "=================================================================\n",
            " embedding (Embedding)       (None, 512, 32)           320000    \n",
            "                                                                 \n",
            " bidirectional (Bidirectiona  (None, 256)              164864    \n",
            " l)                                                              \n",
            "                                                                 \n",
            " dropout (Dropout)           (None, 256)               0         \n",
            "                                                                 \n",
            " dense (Dense)               (None, 10)                2570      \n",
            "                                                                 \n",
            "=================================================================\n",
            "Total params: 487,434\n",
            "Trainable params: 487,434\n",
            "Non-trainable params: 0\n",
            "_________________________________________________________________\n"
          ]
        }
      ],
      "source": [
        "model.compile(loss='categorical_crossentropy', optimizer='adam', metrics=['accuracy'])\n",
        "model.summary()"
      ]
    },
    {
      "cell_type": "code",
      "execution_count": null,
      "metadata": {
        "colab": {
          "base_uri": "https://localhost:8080/"
        },
        "id": "0XBnLhboHUZV",
        "outputId": "494e763d-d319-474c-f98a-b618844472b4"
      },
      "outputs": [
        {
          "output_type": "stream",
          "name": "stdout",
          "text": [
            "Epoch 1/30\n",
            "958/958 [==============================] - 1637s 2s/step - loss: 1.6725 - accuracy: 0.3511 - val_loss: 1.5188 - val_accuracy: 0.4111\n",
            "Epoch 2/30\n",
            "958/958 [==============================] - 1635s 2s/step - loss: 1.2738 - accuracy: 0.5539 - val_loss: 1.5906 - val_accuracy: 0.4725\n",
            "Epoch 3/30\n",
            "958/958 [==============================] - 1630s 2s/step - loss: 1.1179 - accuracy: 0.6159 - val_loss: 1.0439 - val_accuracy: 0.6434\n",
            "Epoch 4/30\n",
            "958/958 [==============================] - 1632s 2s/step - loss: 1.0435 - accuracy: 0.6431 - val_loss: 0.9991 - val_accuracy: 0.6438\n",
            "Epoch 5/30\n",
            "958/958 [==============================] - 1631s 2s/step - loss: 0.8732 - accuracy: 0.7028 - val_loss: 0.9486 - val_accuracy: 0.6771\n",
            "Epoch 6/30\n",
            "958/958 [==============================] - 1631s 2s/step - loss: 0.8158 - accuracy: 0.7233 - val_loss: 0.9257 - val_accuracy: 0.6987\n",
            "Epoch 7/30\n",
            "958/958 [==============================] - 1637s 2s/step - loss: 0.7433 - accuracy: 0.7471 - val_loss: 0.8671 - val_accuracy: 0.7087\n",
            "Epoch 8/30\n",
            "958/958 [==============================] - 1621s 2s/step - loss: 0.6909 - accuracy: 0.7615 - val_loss: 0.8472 - val_accuracy: 0.7140\n",
            "Epoch 9/30\n",
            "958/958 [==============================] - 1616s 2s/step - loss: 0.6612 - accuracy: 0.7716 - val_loss: 0.8607 - val_accuracy: 0.7187\n",
            "Epoch 10/30\n",
            "958/958 [==============================] - 1622s 2s/step - loss: 0.6151 - accuracy: 0.7867 - val_loss: 0.8461 - val_accuracy: 0.7185\n",
            "Epoch 11/30\n",
            "958/958 [==============================] - 1640s 2s/step - loss: 0.5802 - accuracy: 0.8037 - val_loss: 0.8571 - val_accuracy: 0.7246\n",
            "Epoch 12/30\n",
            "958/958 [==============================] - 1634s 2s/step - loss: 0.5414 - accuracy: 0.8184 - val_loss: 0.8700 - val_accuracy: 0.7237\n",
            "Epoch 13/30\n",
            "958/958 [==============================] - 1633s 2s/step - loss: 0.5093 - accuracy: 0.8326 - val_loss: 0.8855 - val_accuracy: 0.7282\n"
          ]
        }
      ],
      "source": [
        "epochs = 30\n",
        "batch_size = 64\n",
        "\n",
        "start = time.time()\n",
        "history = model.fit(X_train, Y_train, epochs=epochs, batch_size=batch_size,validation_split=0.1,callbacks=[EarlyStopping(monitor='val_loss', patience=3, min_delta=0.0001)])\n",
        "training_time = time.time() - start\n",
        "\n",
        "print(training_time)"
      ]
    },
    {
      "cell_type": "code",
      "execution_count": null,
      "metadata": {
        "id": "qHHfAsaUHUZV",
        "colab": {
          "base_uri": "https://localhost:8080/"
        },
        "outputId": "54b5a65a-b208-4c35-aafc-588fc7778b14"
      },
      "outputs": [
        {
          "output_type": "stream",
          "name": "stderr",
          "text": [
            "WARNING:absl:Found untraced functions such as lstm_cell_2_layer_call_fn, lstm_cell_2_layer_call_and_return_conditional_losses, lstm_cell_3_layer_call_fn, lstm_cell_3_layer_call_and_return_conditional_losses while saving (showing 4 of 4). These functions will not be directly callable after loading.\n"
          ]
        },
        {
          "output_type": "stream",
          "name": "stdout",
          "text": [
            "  adding: content/bilstm/ (stored 0%)\n",
            "  adding: content/bilstm/saved_model.pb (deflated 91%)\n",
            "  adding: content/bilstm/keras_metadata.pb (deflated 89%)\n",
            "  adding: content/bilstm/assets/ (stored 0%)\n",
            "  adding: content/bilstm/variables/ (stored 0%)\n",
            "  adding: content/bilstm/variables/variables.index (deflated 65%)\n",
            "  adding: content/bilstm/variables/variables.data-00000-of-00001 (deflated 7%)\n"
          ]
        }
      ],
      "source": [
        "model.save('/content/bilstm')\n",
        "!zip -r '/content/drive/MyDrive/Bachelor Thesis/Classification/Models/bilstm_model_nolemma.zip' '/content/bilstm'\n",
        "with open('/content/drive/MyDrive/Bachelor Thesis/Classification/Models/bilstm_tokenizer_nolemma.pkl', 'wb') as handle:\n",
        "    pickle.dump(tokenizer, handle, protocol=pickle.HIGHEST_PROTOCOL)"
      ]
    },
    {
      "cell_type": "markdown",
      "metadata": {
        "id": "OxrXPp1CHUZW"
      },
      "source": [
        "### Evaluate Training"
      ]
    },
    {
      "cell_type": "code",
      "execution_count": null,
      "metadata": {
        "id": "9pOqIhaSHUZW"
      },
      "outputs": [],
      "source": [
        "plt.plot(history.history['loss'], label='train')\n",
        "plt.plot(history.history['val_loss'], label='test')\n",
        "plt.xlabel(\"Epochs\")\n",
        "plt.ylabel(\"Loss\")\n",
        "plt.legend()\n",
        "plt.show();"
      ]
    },
    {
      "cell_type": "markdown",
      "metadata": {
        "id": "ZTG7SRMEHUZW"
      },
      "source": [
        "## Inference"
      ]
    },
    {
      "cell_type": "code",
      "execution_count": null,
      "metadata": {
        "id": "xZR9MvimHUZW",
        "colab": {
          "base_uri": "https://localhost:8080/"
        },
        "outputId": "65c92edd-3053-44da-b7bc-d38eebbbb1de"
      },
      "outputs": [
        {
          "output_type": "stream",
          "name": "stdout",
          "text": [
            "Archive:  /content/drive/MyDrive/Bachelor Thesis/Classification/Models/bilstm_model_nolemma.zip\n"
          ]
        }
      ],
      "source": [
        "with open('/content/drive/MyDrive/Bachelor Thesis/Classification/Models/bilstm_tokenizer_nolemma.pkl', 'rb') as handle:\n",
        "    tokenizer = pickle.load(handle)\n",
        "!unzip -u \"/content/drive/MyDrive/Bachelor Thesis/Classification/Models/bilstm_model_nolemma.zip\" -d \"/content/\"\n",
        "model = keras.models.load_model('/content/content/bilstm')"
      ]
    },
    {
      "cell_type": "code",
      "execution_count": null,
      "metadata": {
        "id": "hKjtG6S4HUZW",
        "colab": {
          "base_uri": "https://localhost:8080/"
        },
        "outputId": "f4626a40-dbc9-4a28-b253-9f95d1c338fe"
      },
      "outputs": [
        {
          "output_type": "stream",
          "name": "stderr",
          "text": [
            "100%|██████████| 14139/14139 [21:49<00:00, 10.80it/s]\n"
          ]
        }
      ],
      "source": [
        "labels = sorted(test[label_target].unique())\n",
        "predictions, y_actu, y_pred = [], [], []\n",
        "\n",
        "start_time = time.time()\n",
        "for index, row in tqdm(test.iterrows(), total=test.shape[0]):\n",
        "    # get text\n",
        "    new_text = [row[content_target]]\n",
        "\n",
        "    # tokenize and pad it\n",
        "    seq = tokenizer.texts_to_sequences(new_text)\n",
        "    padded = pad_sequences(seq, maxlen=512)\n",
        "\n",
        "    # predict the label\n",
        "    pred = model.predict(padded, verbose = 0)\n",
        "    pred_cat = labels[np.argmax(pred)]\n",
        "\n",
        "    # sort into lists\n",
        "    y_actu.append(row[label_target])\n",
        "    y_pred.append(pred_cat)\n",
        "    predictions.append([pred_cat, row[label_target], row[content_target], row['Complaint ID']])\n",
        "\n",
        "full_time = time.time() - start_time"
      ]
    },
    {
      "cell_type": "code",
      "source": [
        "results = pd.DataFrame(predictions, columns=['Prediction', 'Actual Answer', 'Textual Content', 'Complaint ID'])\n",
        "# results"
      ],
      "metadata": {
        "id": "tEmyfuuuTJxX"
      },
      "execution_count": null,
      "outputs": []
    },
    {
      "cell_type": "markdown",
      "metadata": {
        "id": "sybhNaFKHUZW"
      },
      "source": [
        "### Evaluation"
      ]
    },
    {
      "cell_type": "code",
      "execution_count": null,
      "metadata": {
        "id": "hlpkUCwQHUZW",
        "colab": {
          "base_uri": "https://localhost:8080/",
          "height": 394
        },
        "outputId": "65b22c26-704b-4c3f-9dcc-2a6088a9ed16"
      },
      "outputs": [
        {
          "output_type": "execute_result",
          "data": {
            "text/plain": [
              "                            0        1\n",
              "0                   Algorithm  Bi-LSTM\n",
              "1                      Method         \n",
              "2                    Accuracy  72.9613\n",
              "3   Precision (Macro Average)  72.8388\n",
              "4   Precision (Micro Average)  72.9613\n",
              "5      Recall (Macro Average)  72.9275\n",
              "6      Recall (Micro Average)  72.9613\n",
              "7    F1-Score (Macro Average)  72.8217\n",
              "8    F1-Score (Micro Average)  72.9613\n",
              "9      time per document (ms)   127.37\n",
              "10        training time (min)   353.32"
            ],
            "text/html": [
              "\n",
              "  <div id=\"df-d33f5101-7bef-4fe0-bfd0-d7e7d17feb31\">\n",
              "    <div class=\"colab-df-container\">\n",
              "      <div>\n",
              "<style scoped>\n",
              "    .dataframe tbody tr th:only-of-type {\n",
              "        vertical-align: middle;\n",
              "    }\n",
              "\n",
              "    .dataframe tbody tr th {\n",
              "        vertical-align: top;\n",
              "    }\n",
              "\n",
              "    .dataframe thead th {\n",
              "        text-align: right;\n",
              "    }\n",
              "</style>\n",
              "<table border=\"1\" class=\"dataframe\">\n",
              "  <thead>\n",
              "    <tr style=\"text-align: right;\">\n",
              "      <th></th>\n",
              "      <th>0</th>\n",
              "      <th>1</th>\n",
              "    </tr>\n",
              "  </thead>\n",
              "  <tbody>\n",
              "    <tr>\n",
              "      <th>0</th>\n",
              "      <td>Algorithm</td>\n",
              "      <td>Bi-LSTM</td>\n",
              "    </tr>\n",
              "    <tr>\n",
              "      <th>1</th>\n",
              "      <td>Method</td>\n",
              "      <td></td>\n",
              "    </tr>\n",
              "    <tr>\n",
              "      <th>2</th>\n",
              "      <td>Accuracy</td>\n",
              "      <td>72.9613</td>\n",
              "    </tr>\n",
              "    <tr>\n",
              "      <th>3</th>\n",
              "      <td>Precision (Macro Average)</td>\n",
              "      <td>72.8388</td>\n",
              "    </tr>\n",
              "    <tr>\n",
              "      <th>4</th>\n",
              "      <td>Precision (Micro Average)</td>\n",
              "      <td>72.9613</td>\n",
              "    </tr>\n",
              "    <tr>\n",
              "      <th>5</th>\n",
              "      <td>Recall (Macro Average)</td>\n",
              "      <td>72.9275</td>\n",
              "    </tr>\n",
              "    <tr>\n",
              "      <th>6</th>\n",
              "      <td>Recall (Micro Average)</td>\n",
              "      <td>72.9613</td>\n",
              "    </tr>\n",
              "    <tr>\n",
              "      <th>7</th>\n",
              "      <td>F1-Score (Macro Average)</td>\n",
              "      <td>72.8217</td>\n",
              "    </tr>\n",
              "    <tr>\n",
              "      <th>8</th>\n",
              "      <td>F1-Score (Micro Average)</td>\n",
              "      <td>72.9613</td>\n",
              "    </tr>\n",
              "    <tr>\n",
              "      <th>9</th>\n",
              "      <td>time per document (ms)</td>\n",
              "      <td>127.37</td>\n",
              "    </tr>\n",
              "    <tr>\n",
              "      <th>10</th>\n",
              "      <td>training time (min)</td>\n",
              "      <td>353.32</td>\n",
              "    </tr>\n",
              "  </tbody>\n",
              "</table>\n",
              "</div>\n",
              "      <button class=\"colab-df-convert\" onclick=\"convertToInteractive('df-d33f5101-7bef-4fe0-bfd0-d7e7d17feb31')\"\n",
              "              title=\"Convert this dataframe to an interactive table.\"\n",
              "              style=\"display:none;\">\n",
              "        \n",
              "  <svg xmlns=\"http://www.w3.org/2000/svg\" height=\"24px\"viewBox=\"0 0 24 24\"\n",
              "       width=\"24px\">\n",
              "    <path d=\"M0 0h24v24H0V0z\" fill=\"none\"/>\n",
              "    <path d=\"M18.56 5.44l.94 2.06.94-2.06 2.06-.94-2.06-.94-.94-2.06-.94 2.06-2.06.94zm-11 1L8.5 8.5l.94-2.06 2.06-.94-2.06-.94L8.5 2.5l-.94 2.06-2.06.94zm10 10l.94 2.06.94-2.06 2.06-.94-2.06-.94-.94-2.06-.94 2.06-2.06.94z\"/><path d=\"M17.41 7.96l-1.37-1.37c-.4-.4-.92-.59-1.43-.59-.52 0-1.04.2-1.43.59L10.3 9.45l-7.72 7.72c-.78.78-.78 2.05 0 2.83L4 21.41c.39.39.9.59 1.41.59.51 0 1.02-.2 1.41-.59l7.78-7.78 2.81-2.81c.8-.78.8-2.07 0-2.86zM5.41 20L4 18.59l7.72-7.72 1.47 1.35L5.41 20z\"/>\n",
              "  </svg>\n",
              "      </button>\n",
              "      \n",
              "  <style>\n",
              "    .colab-df-container {\n",
              "      display:flex;\n",
              "      flex-wrap:wrap;\n",
              "      gap: 12px;\n",
              "    }\n",
              "\n",
              "    .colab-df-convert {\n",
              "      background-color: #E8F0FE;\n",
              "      border: none;\n",
              "      border-radius: 50%;\n",
              "      cursor: pointer;\n",
              "      display: none;\n",
              "      fill: #1967D2;\n",
              "      height: 32px;\n",
              "      padding: 0 0 0 0;\n",
              "      width: 32px;\n",
              "    }\n",
              "\n",
              "    .colab-df-convert:hover {\n",
              "      background-color: #E2EBFA;\n",
              "      box-shadow: 0px 1px 2px rgba(60, 64, 67, 0.3), 0px 1px 3px 1px rgba(60, 64, 67, 0.15);\n",
              "      fill: #174EA6;\n",
              "    }\n",
              "\n",
              "    [theme=dark] .colab-df-convert {\n",
              "      background-color: #3B4455;\n",
              "      fill: #D2E3FC;\n",
              "    }\n",
              "\n",
              "    [theme=dark] .colab-df-convert:hover {\n",
              "      background-color: #434B5C;\n",
              "      box-shadow: 0px 1px 3px 1px rgba(0, 0, 0, 0.15);\n",
              "      filter: drop-shadow(0px 1px 2px rgba(0, 0, 0, 0.3));\n",
              "      fill: #FFFFFF;\n",
              "    }\n",
              "  </style>\n",
              "\n",
              "      <script>\n",
              "        const buttonEl =\n",
              "          document.querySelector('#df-d33f5101-7bef-4fe0-bfd0-d7e7d17feb31 button.colab-df-convert');\n",
              "        buttonEl.style.display =\n",
              "          google.colab.kernel.accessAllowed ? 'block' : 'none';\n",
              "\n",
              "        async function convertToInteractive(key) {\n",
              "          const element = document.querySelector('#df-d33f5101-7bef-4fe0-bfd0-d7e7d17feb31');\n",
              "          const dataTable =\n",
              "            await google.colab.kernel.invokeFunction('convertToInteractive',\n",
              "                                                     [key], {});\n",
              "          if (!dataTable) return;\n",
              "\n",
              "          const docLinkHtml = 'Like what you see? Visit the ' +\n",
              "            '<a target=\"_blank\" href=https://colab.research.google.com/notebooks/data_table.ipynb>data table notebook</a>'\n",
              "            + ' to learn more about interactive tables.';\n",
              "          element.innerHTML = '';\n",
              "          dataTable['output_type'] = 'display_data';\n",
              "          await google.colab.output.renderOutput(dataTable, element);\n",
              "          const docLink = document.createElement('div');\n",
              "          docLink.innerHTML = docLinkHtml;\n",
              "          element.appendChild(docLink);\n",
              "        }\n",
              "      </script>\n",
              "    </div>\n",
              "  </div>\n",
              "  "
            ]
          },
          "metadata": {},
          "execution_count": 13
        }
      ],
      "source": [
        "print(\"tested on \" + str(test.shape[0]) + \" documents\")\n",
        "\n",
        "evaluation = evaluate_model(y_actu, y_pred, round(full_time/test.shape[0]*1000, 2), round(training_time/60, 2), \"Bi-LSTM\")\n",
        "\n",
        "eval_df = pd.DataFrame(evaluation.items())\n",
        "eval_df"
      ]
    },
    {
      "cell_type": "code",
      "execution_count": null,
      "metadata": {
        "id": "NLWxAeOPHUZW",
        "colab": {
          "base_uri": "https://localhost:8080/",
          "height": 970
        },
        "outputId": "63cde326-aa94-481b-83ae-67a5b6216a74"
      },
      "outputs": [
        {
          "output_type": "display_data",
          "data": {
            "text/plain": [
              "<Figure size 720x720 with 1 Axes>"
            ],
            "image/png": "[encoded data removed]"
          },
          "metadata": {
            "needs_background": "light"
          }
        }
      ],
      "source": [
        "plot_confusion_matrix(y_actu, y_pred, labels)"
      ]
    },
    {
      "cell_type": "markdown",
      "metadata": {
        "id": "Q2GdKgXpbw16"
      },
      "source": [
        "# GRU\n",
        "Gated recurrent unit"
      ]
    },
    {
      "cell_type": "markdown",
      "metadata": {
        "id": "K3BPRV-WHSuT"
      },
      "source": [
        "## Setup Data"
      ]
    },
    {
      "cell_type": "code",
      "execution_count": null,
      "metadata": {
        "id": "bbcM1PM6HSuT"
      },
      "outputs": [],
      "source": [
        "most_frequent = 10000\n",
        "max_length = 512"
      ]
    },
    {
      "cell_type": "code",
      "execution_count": null,
      "metadata": {
        "id": "pRNigh4HHSuT"
      },
      "outputs": [],
      "source": [
        "tokenizer = Tokenizer(num_words=most_frequent, filters='!\"#$%&()*+,-./:;<=>?@[\\]^_`{|}~', lower=True)\n",
        "tokenizer.fit_on_texts(train[content_target].values.astype(\"str\"))\n",
        "\n",
        "sequences = tokenizer.texts_to_sequences(train[content_target].values.astype(\"str\"))\n",
        "padded = pad_sequences(sequences, maxlen=max_length)\n",
        "\n",
        "labels = pd.get_dummies(train[label_target]).values"
      ]
    },
    {
      "cell_type": "code",
      "execution_count": null,
      "metadata": {
        "id": "xu-D5mNjHSuT"
      },
      "outputs": [],
      "source": [
        "X_train, X_test, Y_train, Y_test = train_test_split(padded, labels, test_size = 0.15, random_state = 1)"
      ]
    },
    {
      "cell_type": "markdown",
      "metadata": {
        "id": "i_tlpLAPHSuT"
      },
      "source": [
        "## Train Model"
      ]
    },
    {
      "cell_type": "code",
      "execution_count": null,
      "metadata": {
        "id": "J6XxWneCIijI"
      },
      "outputs": [],
      "source": [
        "model = Sequential()\n",
        "model.add(Embedding(most_frequent, 32, input_length = padded.shape[1]))\n",
        "model.add(SpatialDropout1D(0.2))\n",
        "model.add(GRU(128, return_sequences = False))\n",
        "model.add(Dropout(0.2))\n",
        "model.add(Dense(num_labels, activation = 'softmax'))"
      ]
    },
    {
      "cell_type": "code",
      "execution_count": null,
      "metadata": {
        "id": "651RXQIJHSuT",
        "colab": {
          "base_uri": "https://localhost:8080/"
        },
        "outputId": "c9b171bc-be1c-41dc-e5c6-407933c47216"
      },
      "outputs": [
        {
          "output_type": "stream",
          "name": "stdout",
          "text": [
            "Model: \"sequential\"\n",
            "_________________________________________________________________\n",
            " Layer (type)                Output Shape              Param #   \n",
            "=================================================================\n",
            " embedding (Embedding)       (None, 512, 32)           320000    \n",
            "                                                                 \n",
            " spatial_dropout1d (SpatialD  (None, 512, 32)          0         \n",
            " ropout1D)                                                       \n",
            "                                                                 \n",
            " gru (GRU)                   (None, 128)               62208     \n",
            "                                                                 \n",
            " dropout (Dropout)           (None, 128)               0         \n",
            "                                                                 \n",
            " dense (Dense)               (None, 10)                1290      \n",
            "                                                                 \n",
            "=================================================================\n",
            "Total params: 383,498\n",
            "Trainable params: 383,498\n",
            "Non-trainable params: 0\n",
            "_________________________________________________________________\n"
          ]
        }
      ],
      "source": [
        "model.compile(loss='categorical_crossentropy', optimizer='adam', metrics=['accuracy'])\n",
        "model.summary()"
      ]
    },
    {
      "cell_type": "code",
      "execution_count": null,
      "metadata": {
        "id": "utOfJkHVHSuU",
        "colab": {
          "base_uri": "https://localhost:8080/"
        },
        "outputId": "5fc2740f-b3eb-4864-ae8a-e327e47e29dc"
      },
      "outputs": [
        {
          "output_type": "stream",
          "name": "stdout",
          "text": [
            "Epoch 1/30\n",
            "958/958 [==============================] - 789s 821ms/step - loss: 1.4270 - accuracy: 0.4653 - val_loss: 0.9382 - val_accuracy: 0.6820\n",
            "Epoch 2/30\n",
            "958/958 [==============================] - 782s 817ms/step - loss: 0.8510 - accuracy: 0.7047 - val_loss: 0.8290 - val_accuracy: 0.7067\n",
            "Epoch 3/30\n",
            "958/958 [==============================] - 780s 814ms/step - loss: 0.7478 - accuracy: 0.7404 - val_loss: 0.8097 - val_accuracy: 0.7215\n",
            "Epoch 4/30\n",
            "958/958 [==============================] - 791s 826ms/step - loss: 0.6834 - accuracy: 0.7624 - val_loss: 0.7884 - val_accuracy: 0.7334\n",
            "Epoch 5/30\n",
            "958/958 [==============================] - 787s 821ms/step - loss: 0.6382 - accuracy: 0.7782 - val_loss: 0.7995 - val_accuracy: 0.7379\n",
            "Epoch 6/30\n",
            "958/958 [==============================] - 776s 810ms/step - loss: 0.5932 - accuracy: 0.7954 - val_loss: 0.7949 - val_accuracy: 0.7394\n",
            "Epoch 7/30\n",
            "958/958 [==============================] - 787s 822ms/step - loss: 0.5499 - accuracy: 0.8115 - val_loss: 0.8012 - val_accuracy: 0.7398\n",
            "1675460702.7661886\n"
          ]
        }
      ],
      "source": [
        "epochs = 30\n",
        "batch_size = 64\n",
        "\n",
        "start = time.time()\n",
        "history = model.fit(X_train, Y_train, epochs=epochs, batch_size=batch_size,validation_split=0.1,callbacks=[EarlyStopping(monitor='val_loss', patience=3, min_delta=0.0001)])\n",
        "training_time = time.time() - start\n",
        "\n",
        "print(training_time)"
      ]
    },
    {
      "cell_type": "code",
      "execution_count": null,
      "metadata": {
        "id": "FWaPIIS6HSuU",
        "colab": {
          "base_uri": "https://localhost:8080/"
        },
        "outputId": "3526a3fd-4136-4746-c594-d418a9baa6b7"
      },
      "outputs": [
        {
          "output_type": "stream",
          "name": "stderr",
          "text": [
            "WARNING:absl:Found untraced functions such as gru_cell_layer_call_fn, gru_cell_layer_call_and_return_conditional_losses while saving (showing 2 of 2). These functions will not be directly callable after loading.\n"
          ]
        },
        {
          "output_type": "stream",
          "name": "stdout",
          "text": [
            "  adding: content/gru/ (stored 0%)\n",
            "  adding: content/gru/assets/ (stored 0%)\n",
            "  adding: content/gru/saved_model.pb (deflated 89%)\n",
            "  adding: content/gru/variables/ (stored 0%)\n",
            "  adding: content/gru/variables/variables.index (deflated 61%)\n",
            "  adding: content/gru/variables/variables.data-00000-of-00001 (deflated 7%)\n",
            "  adding: content/gru/keras_metadata.pb (deflated 87%)\n"
          ]
        }
      ],
      "source": [
        "model.save('/content/gru')\n",
        "!zip -r '/content/drive/MyDrive/Bachelor Thesis/Classification/Models/gru_model_nolemma.zip' '/content/gru'\n",
        "with open('/content/drive/MyDrive/Bachelor Thesis/Classification/Models/gru_tokenizer_nolemma.pkl', 'wb') as handle:\n",
        "    pickle.dump(tokenizer, handle, protocol=pickle.HIGHEST_PROTOCOL)"
      ]
    },
    {
      "cell_type": "markdown",
      "metadata": {
        "id": "xiC778KFHSuU"
      },
      "source": [
        "### Evaluate Training"
      ]
    },
    {
      "cell_type": "code",
      "execution_count": null,
      "metadata": {
        "id": "4F20ENqGHSuU",
        "colab": {
          "base_uri": "https://localhost:8080/"
        },
        "outputId": "b0c0af5f-cd59-40ca-bfdb-434f7465bb52"
      },
      "outputs": [
        {
          "output_type": "display_data",
          "data": {
            "text/plain": [
              "<Figure size 432x288 with 1 Axes>"
            ],
            "image/png": "[encoded data removed]"
          },
          "metadata": {
            "needs_background": "light"
          }
        }
      ],
      "source": [
        "plt.plot(history.history['loss'], label='train')\n",
        "plt.plot(history.history['val_loss'], label='test')\n",
        "plt.xlabel(\"Epochs\")\n",
        "plt.ylabel(\"Loss\")\n",
        "plt.legend()\n",
        "plt.show();"
      ]
    },
    {
      "cell_type": "markdown",
      "metadata": {
        "id": "ZaEVlKWyHSuU"
      },
      "source": [
        "## Inference"
      ]
    },
    {
      "cell_type": "code",
      "execution_count": null,
      "metadata": {
        "id": "P3IFu7lQHSuU",
        "colab": {
          "base_uri": "https://localhost:8080/"
        },
        "outputId": "7da8fe26-50e1-4278-ada1-08e385e628d3"
      },
      "outputs": [
        {
          "output_type": "stream",
          "name": "stdout",
          "text": [
            "Archive:  /content/drive/MyDrive/Bachelor Thesis/Classification/Models/gru_model_nolemma.zip\n"
          ]
        }
      ],
      "source": [
        "with open('/content/drive/MyDrive/Bachelor Thesis/Classification/Models/gru_tokenizer_nolemma.pkl', 'rb') as handle:\n",
        "    tokenizer = pickle.load(handle)\n",
        "!unzip -u \"/content/drive/MyDrive/Bachelor Thesis/Classification/Models/gru_model_nolemma.zip\" -d \"/content/\"\n",
        "model = keras.models.load_model('/content/content/gru')"
      ]
    },
    {
      "cell_type": "code",
      "execution_count": null,
      "metadata": {
        "id": "2tyKgfjEHSuU",
        "colab": {
          "base_uri": "https://localhost:8080/"
        },
        "outputId": "367cecfe-035d-4396-ff73-f6292f972108"
      },
      "outputs": [
        {
          "output_type": "stream",
          "name": "stderr",
          "text": [
            "100%|██████████| 14139/14139 [16:51<00:00, 13.98it/s]\n"
          ]
        }
      ],
      "source": [
        "labels = sorted(test[label_target].unique())\n",
        "predictions, y_actu, y_pred = [], [], []\n",
        "\n",
        "start_time = time.time()\n",
        "for index, row in tqdm(test.iterrows(), total=test.shape[0]):\n",
        "    # get text\n",
        "    new_text = [row[content_target]]\n",
        "\n",
        "    # tokenize and pad it\n",
        "    seq = tokenizer.texts_to_sequences(new_text)\n",
        "    padded = pad_sequences(seq, maxlen=512)\n",
        "\n",
        "    # predict the label\n",
        "    pred = model.predict(padded, verbose = 0)\n",
        "    pred_cat = labels[np.argmax(pred)]\n",
        "\n",
        "    # sort into lists\n",
        "    y_actu.append(row[label_target])\n",
        "    y_pred.append(pred_cat)\n",
        "    predictions.append([pred_cat, row[label_target], row[content_target], row['Complaint ID']])\n",
        "\n",
        "full_time = time.time() - start_time"
      ]
    },
    {
      "cell_type": "code",
      "source": [
        "results = pd.DataFrame(predictions, columns=['Prediction', 'Actual Answer', 'Textual Content', 'Complaint ID'])\n",
        "# results"
      ],
      "metadata": {
        "id": "H6wMblSoSyQ5"
      },
      "execution_count": null,
      "outputs": []
    },
    {
      "cell_type": "markdown",
      "metadata": {
        "id": "GTruJUlEHSuU"
      },
      "source": [
        "### Evaluation"
      ]
    },
    {
      "cell_type": "code",
      "execution_count": null,
      "metadata": {
        "id": "QS6E4qkEHSuV",
        "colab": {
          "base_uri": "https://localhost:8080/",
          "height": 394
        },
        "outputId": "91bd952e-7ca8-41b2-d4a4-2a4156a87527"
      },
      "outputs": [
        {
          "output_type": "execute_result",
          "data": {
            "text/plain": [
              "                            0        1\n",
              "0                   Algorithm      GRU\n",
              "1                      Method         \n",
              "2                    Accuracy  74.6658\n",
              "3   Precision (Macro Average)  74.4319\n",
              "4   Precision (Micro Average)  74.6658\n",
              "5      Recall (Macro Average)  74.5952\n",
              "6      Recall (Micro Average)  74.6658\n",
              "7    F1-Score (Macro Average)  74.0911\n",
              "8    F1-Score (Micro Average)  74.6658\n",
              "9      time per document (ms)    71.55\n",
              "10        training time (min)    91.53"
            ],
            "text/html": [
              "\n",
              "  <div id=\"df-cafc0281-c243-4079-815e-21986ef328e4\">\n",
              "    <div class=\"colab-df-container\">\n",
              "      <div>\n",
              "<style scoped>\n",
              "    .dataframe tbody tr th:only-of-type {\n",
              "        vertical-align: middle;\n",
              "    }\n",
              "\n",
              "    .dataframe tbody tr th {\n",
              "        vertical-align: top;\n",
              "    }\n",
              "\n",
              "    .dataframe thead th {\n",
              "        text-align: right;\n",
              "    }\n",
              "</style>\n",
              "<table border=\"1\" class=\"dataframe\">\n",
              "  <thead>\n",
              "    <tr style=\"text-align: right;\">\n",
              "      <th></th>\n",
              "      <th>0</th>\n",
              "      <th>1</th>\n",
              "    </tr>\n",
              "  </thead>\n",
              "  <tbody>\n",
              "    <tr>\n",
              "      <th>0</th>\n",
              "      <td>Algorithm</td>\n",
              "      <td>GRU</td>\n",
              "    </tr>\n",
              "    <tr>\n",
              "      <th>1</th>\n",
              "      <td>Method</td>\n",
              "      <td></td>\n",
              "    </tr>\n",
              "    <tr>\n",
              "      <th>2</th>\n",
              "      <td>Accuracy</td>\n",
              "      <td>74.6658</td>\n",
              "    </tr>\n",
              "    <tr>\n",
              "      <th>3</th>\n",
              "      <td>Precision (Macro Average)</td>\n",
              "      <td>74.4319</td>\n",
              "    </tr>\n",
              "    <tr>\n",
              "      <th>4</th>\n",
              "      <td>Precision (Micro Average)</td>\n",
              "      <td>74.6658</td>\n",
              "    </tr>\n",
              "    <tr>\n",
              "      <th>5</th>\n",
              "      <td>Recall (Macro Average)</td>\n",
              "      <td>74.5952</td>\n",
              "    </tr>\n",
              "    <tr>\n",
              "      <th>6</th>\n",
              "      <td>Recall (Micro Average)</td>\n",
              "      <td>74.6658</td>\n",
              "    </tr>\n",
              "    <tr>\n",
              "      <th>7</th>\n",
              "      <td>F1-Score (Macro Average)</td>\n",
              "      <td>74.0911</td>\n",
              "    </tr>\n",
              "    <tr>\n",
              "      <th>8</th>\n",
              "      <td>F1-Score (Micro Average)</td>\n",
              "      <td>74.6658</td>\n",
              "    </tr>\n",
              "    <tr>\n",
              "      <th>9</th>\n",
              "      <td>time per document (ms)</td>\n",
              "      <td>71.55</td>\n",
              "    </tr>\n",
              "    <tr>\n",
              "      <th>10</th>\n",
              "      <td>training time (min)</td>\n",
              "      <td>91.53</td>\n",
              "    </tr>\n",
              "  </tbody>\n",
              "</table>\n",
              "</div>\n",
              "      <button class=\"colab-df-convert\" onclick=\"convertToInteractive('df-cafc0281-c243-4079-815e-21986ef328e4')\"\n",
              "              title=\"Convert this dataframe to an interactive table.\"\n",
              "              style=\"display:none;\">\n",
              "        \n",
              "  <svg xmlns=\"http://www.w3.org/2000/svg\" height=\"24px\"viewBox=\"0 0 24 24\"\n",
              "       width=\"24px\">\n",
              "    <path d=\"M0 0h24v24H0V0z\" fill=\"none\"/>\n",
              "    <path d=\"M18.56 5.44l.94 2.06.94-2.06 2.06-.94-2.06-.94-.94-2.06-.94 2.06-2.06.94zm-11 1L8.5 8.5l.94-2.06 2.06-.94-2.06-.94L8.5 2.5l-.94 2.06-2.06.94zm10 10l.94 2.06.94-2.06 2.06-.94-2.06-.94-.94-2.06-.94 2.06-2.06.94z\"/><path d=\"M17.41 7.96l-1.37-1.37c-.4-.4-.92-.59-1.43-.59-.52 0-1.04.2-1.43.59L10.3 9.45l-7.72 7.72c-.78.78-.78 2.05 0 2.83L4 21.41c.39.39.9.59 1.41.59.51 0 1.02-.2 1.41-.59l7.78-7.78 2.81-2.81c.8-.78.8-2.07 0-2.86zM5.41 20L4 18.59l7.72-7.72 1.47 1.35L5.41 20z\"/>\n",
              "  </svg>\n",
              "      </button>\n",
              "      \n",
              "  <style>\n",
              "    .colab-df-container {\n",
              "      display:flex;\n",
              "      flex-wrap:wrap;\n",
              "      gap: 12px;\n",
              "    }\n",
              "\n",
              "    .colab-df-convert {\n",
              "      background-color: #E8F0FE;\n",
              "      border: none;\n",
              "      border-radius: 50%;\n",
              "      cursor: pointer;\n",
              "      display: none;\n",
              "      fill: #1967D2;\n",
              "      height: 32px;\n",
              "      padding: 0 0 0 0;\n",
              "      width: 32px;\n",
              "    }\n",
              "\n",
              "    .colab-df-convert:hover {\n",
              "      background-color: #E2EBFA;\n",
              "      box-shadow: 0px 1px 2px rgba(60, 64, 67, 0.3), 0px 1px 3px 1px rgba(60, 64, 67, 0.15);\n",
              "      fill: #174EA6;\n",
              "    }\n",
              "\n",
              "    [theme=dark] .colab-df-convert {\n",
              "      background-color: #3B4455;\n",
              "      fill: #D2E3FC;\n",
              "    }\n",
              "\n",
              "    [theme=dark] .colab-df-convert:hover {\n",
              "      background-color: #434B5C;\n",
              "      box-shadow: 0px 1px 3px 1px rgba(0, 0, 0, 0.15);\n",
              "      filter: drop-shadow(0px 1px 2px rgba(0, 0, 0, 0.3));\n",
              "      fill: #FFFFFF;\n",
              "    }\n",
              "  </style>\n",
              "\n",
              "      <script>\n",
              "        const buttonEl =\n",
              "          document.querySelector('#df-cafc0281-c243-4079-815e-21986ef328e4 button.colab-df-convert');\n",
              "        buttonEl.style.display =\n",
              "          google.colab.kernel.accessAllowed ? 'block' : 'none';\n",
              "\n",
              "        async function convertToInteractive(key) {\n",
              "          const element = document.querySelector('#df-cafc0281-c243-4079-815e-21986ef328e4');\n",
              "          const dataTable =\n",
              "            await google.colab.kernel.invokeFunction('convertToInteractive',\n",
              "                                                     [key], {});\n",
              "          if (!dataTable) return;\n",
              "\n",
              "          const docLinkHtml = 'Like what you see? Visit the ' +\n",
              "            '<a target=\"_blank\" href=https://colab.research.google.com/notebooks/data_table.ipynb>data table notebook</a>'\n",
              "            + ' to learn more about interactive tables.';\n",
              "          element.innerHTML = '';\n",
              "          dataTable['output_type'] = 'display_data';\n",
              "          await google.colab.output.renderOutput(dataTable, element);\n",
              "          const docLink = document.createElement('div');\n",
              "          docLink.innerHTML = docLinkHtml;\n",
              "          element.appendChild(docLink);\n",
              "        }\n",
              "      </script>\n",
              "    </div>\n",
              "  </div>\n",
              "  "
            ]
          },
          "metadata": {},
          "execution_count": 14
        }
      ],
      "source": [
        "print(\"tested on \" + str(test.shape[0]) + \" documents\")\n",
        "\n",
        "evaluation = evaluate_model(y_actu, y_pred, round(full_time/test.shape[0]*1000, 2), round(training_time/60, 2), \"GRU\")\n",
        "\n",
        "eval_df = pd.DataFrame(evaluation.items())\n",
        "eval_df"
      ]
    },
    {
      "cell_type": "code",
      "execution_count": null,
      "metadata": {
        "id": "zaVLl8paHSuV",
        "colab": {
          "base_uri": "https://localhost:8080/",
          "height": 970
        },
        "outputId": "e14d25ab-b032-4f27-a265-2b8a1bcb218f"
      },
      "outputs": [
        {
          "output_type": "display_data",
          "data": {
            "text/plain": [
              "<Figure size 720x720 with 1 Axes>"
            ],
            "image/png": "[encoded data removed]"
          },
          "metadata": {
            "needs_background": "light"
          }
        }
      ],
      "source": [
        "plot_confusion_matrix(y_actu, y_pred, labels)"
      ]
    },
    {
      "cell_type": "markdown",
      "metadata": {
        "id": "gp3eIg_nEgD2"
      },
      "source": [
        "# CNN\n",
        "Convolutional neural network"
      ]
    },
    {
      "cell_type": "markdown",
      "metadata": {
        "id": "gO_rxnrMEgD9"
      },
      "source": [
        "## Setup Data"
      ]
    },
    {
      "cell_type": "code",
      "execution_count": null,
      "metadata": {
        "id": "DZTi1s7NGDk7"
      },
      "outputs": [],
      "source": [
        "most_frequent = 10000\n",
        "max_length = 512"
      ]
    },
    {
      "cell_type": "code",
      "execution_count": null,
      "metadata": {
        "id": "7pZUENTTEgD9"
      },
      "outputs": [],
      "source": [
        "tokenizer = Tokenizer(num_words=most_frequent, filters='!\"#$%&()*+,-./:;<=>?@[\\]^_`{|}~', lower=True)\n",
        "tokenizer.fit_on_texts(train[content_target].values.astype(\"str\"))\n",
        "\n",
        "sequences = tokenizer.texts_to_sequences(train[content_target].values.astype(\"str\"))\n",
        "padded = pad_sequences(sequences, maxlen=max_length)\n",
        "\n",
        "labels = pd.get_dummies(train[label_target]).values"
      ]
    },
    {
      "cell_type": "code",
      "execution_count": null,
      "metadata": {
        "id": "XjzWFqGqEgD9"
      },
      "outputs": [],
      "source": [
        "X_train, X_test, Y_train, Y_test = train_test_split(padded, labels, test_size = 0.15, random_state = 1)"
      ]
    },
    {
      "cell_type": "markdown",
      "metadata": {
        "id": "UAd6arJHEgD-"
      },
      "source": [
        "## Train Model"
      ]
    },
    {
      "cell_type": "code",
      "execution_count": null,
      "metadata": {
        "id": "I6JEm7VBEgD-"
      },
      "outputs": [],
      "source": [
        "model = Sequential()\n",
        "model.add(Embedding(most_frequent, 32, input_length=padded.shape[1]))\n",
        "model.add(Conv1D(32, 3, padding='same', activation='relu'))\n",
        "model.add(MaxPooling1D())\n",
        "model.add(Flatten())\n",
        "model.add(Dense(250, activation='relu'))\n",
        "model.add(Dense(num_labels, activation='softmax'))"
      ]
    },
    {
      "cell_type": "code",
      "execution_count": null,
      "metadata": {
        "id": "HWEqC-znFmxT",
        "colab": {
          "base_uri": "https://localhost:8080/"
        },
        "outputId": "6fb11106-a869-4ad0-aaf1-5d11f8a92dad"
      },
      "outputs": [
        {
          "output_type": "stream",
          "name": "stdout",
          "text": [
            "Model: \"sequential_2\"\n",
            "_________________________________________________________________\n",
            " Layer (type)                Output Shape              Param #   \n",
            "=================================================================\n",
            " embedding_2 (Embedding)     (None, 512, 32)           320000    \n",
            "                                                                 \n",
            " conv1d_1 (Conv1D)           (None, 512, 32)           3104      \n",
            "                                                                 \n",
            " max_pooling1d_1 (MaxPooling  (None, 256, 32)          0         \n",
            " 1D)                                                             \n",
            "                                                                 \n",
            " flatten_1 (Flatten)         (None, 8192)              0         \n",
            "                                                                 \n",
            " dense_3 (Dense)             (None, 250)               2048250   \n",
            "                                                                 \n",
            " dense_4 (Dense)             (None, 10)                2510      \n",
            "                                                                 \n",
            "=================================================================\n",
            "Total params: 2,373,864\n",
            "Trainable params: 2,373,864\n",
            "Non-trainable params: 0\n",
            "_________________________________________________________________\n"
          ]
        }
      ],
      "source": [
        "model.compile(loss='categorical_crossentropy', optimizer='adam', metrics=['accuracy'])\n",
        "model.summary()"
      ]
    },
    {
      "cell_type": "code",
      "execution_count": null,
      "metadata": {
        "id": "UfxdxmDcEgD-",
        "colab": {
          "base_uri": "https://localhost:8080/"
        },
        "outputId": "7e7345c7-3e3d-42b4-b357-d6aef219a6ec"
      },
      "outputs": [
        {
          "output_type": "stream",
          "name": "stdout",
          "text": [
            "Epoch 1/30\n",
            "958/958 [==============================] - 71s 74ms/step - loss: 1.1176 - accuracy: 0.6025 - val_loss: 0.8634 - val_accuracy: 0.7052\n",
            "Epoch 2/30\n",
            "958/958 [==============================] - 65s 68ms/step - loss: 0.7035 - accuracy: 0.7574 - val_loss: 0.8260 - val_accuracy: 0.7247\n",
            "Epoch 3/30\n",
            "958/958 [==============================] - 67s 70ms/step - loss: 0.5495 - accuracy: 0.8110 - val_loss: 0.8813 - val_accuracy: 0.7112\n",
            "Epoch 4/30\n",
            "958/958 [==============================] - 65s 68ms/step - loss: 0.4135 - accuracy: 0.8600 - val_loss: 0.9605 - val_accuracy: 0.7125\n",
            "Epoch 5/30\n",
            "958/958 [==============================] - 65s 68ms/step - loss: 0.2931 - accuracy: 0.9027 - val_loss: 1.1699 - val_accuracy: 0.6934\n",
            "333.74945974349976\n"
          ]
        }
      ],
      "source": [
        "epochs = 30\n",
        "batch_size = 64\n",
        "\n",
        "start = time.time()\n",
        "history = model.fit(X_train, Y_train, epochs=epochs, batch_size=batch_size,validation_split=0.1,callbacks=[EarlyStopping(monitor='val_loss', patience=3, min_delta=0.0001)])\n",
        "training_time = time.time() - start\n",
        "\n",
        "print(training_time)"
      ]
    },
    {
      "cell_type": "code",
      "execution_count": null,
      "metadata": {
        "id": "d3-VB3ujEgD-",
        "colab": {
          "base_uri": "https://localhost:8080/"
        },
        "outputId": "9205b2ef-379c-462e-b0c3-89a4518a5f0c"
      },
      "outputs": [
        {
          "output_type": "stream",
          "name": "stderr",
          "text": [
            "WARNING:absl:Found untraced functions such as _jit_compiled_convolution_op while saving (showing 1 of 1). These functions will not be directly callable after loading.\n"
          ]
        },
        {
          "output_type": "stream",
          "name": "stdout",
          "text": [
            "updating: content/cnn/ (stored 0%)\n",
            "updating: content/cnn/assets/ (stored 0%)\n",
            "updating: content/cnn/saved_model.pb (deflated 87%)\n",
            "updating: content/cnn/variables/ (stored 0%)\n",
            "updating: content/cnn/variables/variables.index (deflated 62%)\n",
            "updating: content/cnn/variables/variables.data-00000-of-00001 (deflated 9%)\n",
            "updating: content/cnn/keras_metadata.pb (deflated 88%)\n"
          ]
        }
      ],
      "source": [
        "model.save('/content/cnn')\n",
        "!zip -r '/content/drive/MyDrive/Bachelor Thesis/Classification/Models/cnn_model_nolemma.zip' '/content/cnn'\n",
        "with open('/content/drive/MyDrive/Bachelor Thesis/Classification/Models/cnn_tokenizer_nolemma.pkl', 'wb') as handle:\n",
        "    pickle.dump(tokenizer, handle, protocol=pickle.HIGHEST_PROTOCOL)"
      ]
    },
    {
      "cell_type": "markdown",
      "metadata": {
        "id": "n0twDe3NEgD_"
      },
      "source": [
        "### Evaluate Training"
      ]
    },
    {
      "cell_type": "code",
      "execution_count": null,
      "metadata": {
        "id": "TnFEAzAyEgD_",
        "colab": {
          "base_uri": "https://localhost:8080/"
        },
        "outputId": "5c072866-4536-429d-e7ae-d00b9bc2fff5"
      },
      "outputs": [
        {
          "output_type": "display_data",
          "data": {
            "text/plain": [
              "<Figure size 432x288 with 1 Axes>"
            ],
            "image/png": "[encoded data removed]"
          },
          "metadata": {
            "needs_background": "light"
          }
        }
      ],
      "source": [
        "plt.plot(history.history['loss'], label='train')\n",
        "plt.plot(history.history['val_loss'], label='test')\n",
        "plt.xlabel(\"Epochs\")\n",
        "plt.ylabel(\"Loss\")\n",
        "plt.legend()\n",
        "plt.show();"
      ]
    },
    {
      "cell_type": "markdown",
      "metadata": {
        "id": "VqoKcTG3EgD_"
      },
      "source": [
        "## Inference"
      ]
    },
    {
      "cell_type": "code",
      "execution_count": null,
      "metadata": {
        "id": "ROQsrzGjEgD_",
        "colab": {
          "base_uri": "https://localhost:8080/"
        },
        "outputId": "6d5fac78-74ef-4edd-affc-9d1ff84d0575"
      },
      "outputs": [
        {
          "output_type": "stream",
          "name": "stdout",
          "text": [
            "Archive:  /content/drive/MyDrive/Bachelor Thesis/Classification/Models/cnn_model_nolemma.zip\n",
            "replace /content/content/cnn/saved_model.pb? [y]es, [n]o, [A]ll, [N]one, [r]ename: y\n",
            "  inflating: /content/content/cnn/saved_model.pb  \n",
            "replace /content/content/cnn/variables/variables.index? [y]es, [n]o, [A]ll, [N]one, [r]ename: a\n",
            "error:  invalid response [a]\n",
            "replace /content/content/cnn/variables/variables.index? [y]es, [n]o, [A]ll, [N]one, [r]ename: A\n",
            "  inflating: /content/content/cnn/variables/variables.index  \n",
            "  inflating: /content/content/cnn/variables/variables.data-00000-of-00001  \n",
            "  inflating: /content/content/cnn/keras_metadata.pb  \n"
          ]
        }
      ],
      "source": [
        "with open('/content/drive/MyDrive/Bachelor Thesis/Classification/Models/cnn_tokenizer_nolemma.pkl', 'rb') as handle:\n",
        "    tokenizer = pickle.load(handle)\n",
        "!unzip -u \"/content/drive/MyDrive/Bachelor Thesis/Classification/Models/cnn_model_nolemma.zip\" -d \"/content/\"\n",
        "model = keras.models.load_model('/content/content/cnn')"
      ]
    },
    {
      "cell_type": "code",
      "execution_count": null,
      "metadata": {
        "id": "AeYtwAdVEgD_",
        "colab": {
          "base_uri": "https://localhost:8080/"
        },
        "outputId": "33422ff1-c2f9-427b-f678-a6c15902ba6e"
      },
      "outputs": [
        {
          "output_type": "stream",
          "name": "stderr",
          "text": [
            "100%|██████████| 14139/14139 [11:36<00:00, 20.31it/s]\n"
          ]
        }
      ],
      "source": [
        "labels = sorted(test[label_target].unique())\n",
        "predictions, y_actu, y_pred = [], [], []\n",
        "\n",
        "start_time = time.time()\n",
        "for index, row in tqdm(test.iterrows(), total=test.shape[0]):\n",
        "    # get text\n",
        "    new_text = [row[content_target]]\n",
        "\n",
        "    # tokenize and pad it\n",
        "    seq = tokenizer.texts_to_sequences(new_text)\n",
        "    padded = pad_sequences(seq, maxlen=512)\n",
        "\n",
        "    # predict the label\n",
        "    pred = model.predict(padded, verbose = 0)\n",
        "    pred_cat = labels[np.argmax(pred)]\n",
        "\n",
        "    # sort into lists\n",
        "    y_actu.append(row[label_target])\n",
        "    y_pred.append(pred_cat)\n",
        "    predictions.append([pred_cat, row[label_target], row[content_target], row['Complaint ID']])\n",
        "\n",
        "full_time = time.time() - start_time"
      ]
    },
    {
      "cell_type": "code",
      "source": [
        "results = pd.DataFrame(predictions, columns=['Prediction', 'Actual Answer', 'Textual Content', 'Complaint ID'])\n",
        "# results"
      ],
      "metadata": {
        "id": "F4VSVqYhTEWX"
      },
      "execution_count": null,
      "outputs": []
    },
    {
      "cell_type": "markdown",
      "metadata": {
        "id": "NfFigp-1EgD_"
      },
      "source": [
        "### Evaluation"
      ]
    },
    {
      "cell_type": "code",
      "execution_count": null,
      "metadata": {
        "id": "vogYojylEgEA",
        "colab": {
          "base_uri": "https://localhost:8080/",
          "height": 394
        },
        "outputId": "847262f7-ee8c-4a92-b804-aae0a0d8c173"
      },
      "outputs": [
        {
          "output_type": "execute_result",
          "data": {
            "text/plain": [
              "                            0        1\n",
              "0                   Algorithm      CNN\n",
              "1                      Method         \n",
              "2                    Accuracy  71.0305\n",
              "3   Precision (Macro Average)  71.2331\n",
              "4   Precision (Micro Average)  71.0305\n",
              "5      Recall (Macro Average)  71.0052\n",
              "6      Recall (Micro Average)  71.0305\n",
              "7    F1-Score (Macro Average)  70.9676\n",
              "8    F1-Score (Micro Average)  71.0305\n",
              "9      time per document (ms)    49.24\n",
              "10        training time (min)     5.56"
            ],
            "text/html": [
              "\n",
              "  <div id=\"df-c899a3eb-38fe-4670-ab71-1ebe410ebba7\">\n",
              "    <div class=\"colab-df-container\">\n",
              "      <div>\n",
              "<style scoped>\n",
              "    .dataframe tbody tr th:only-of-type {\n",
              "        vertical-align: middle;\n",
              "    }\n",
              "\n",
              "    .dataframe tbody tr th {\n",
              "        vertical-align: top;\n",
              "    }\n",
              "\n",
              "    .dataframe thead th {\n",
              "        text-align: right;\n",
              "    }\n",
              "</style>\n",
              "<table border=\"1\" class=\"dataframe\">\n",
              "  <thead>\n",
              "    <tr style=\"text-align: right;\">\n",
              "      <th></th>\n",
              "      <th>0</th>\n",
              "      <th>1</th>\n",
              "    </tr>\n",
              "  </thead>\n",
              "  <tbody>\n",
              "    <tr>\n",
              "      <th>0</th>\n",
              "      <td>Algorithm</td>\n",
              "      <td>CNN</td>\n",
              "    </tr>\n",
              "    <tr>\n",
              "      <th>1</th>\n",
              "      <td>Method</td>\n",
              "      <td></td>\n",
              "    </tr>\n",
              "    <tr>\n",
              "      <th>2</th>\n",
              "      <td>Accuracy</td>\n",
              "      <td>71.0305</td>\n",
              "    </tr>\n",
              "    <tr>\n",
              "      <th>3</th>\n",
              "      <td>Precision (Macro Average)</td>\n",
              "      <td>71.2331</td>\n",
              "    </tr>\n",
              "    <tr>\n",
              "      <th>4</th>\n",
              "      <td>Precision (Micro Average)</td>\n",
              "      <td>71.0305</td>\n",
              "    </tr>\n",
              "    <tr>\n",
              "      <th>5</th>\n",
              "      <td>Recall (Macro Average)</td>\n",
              "      <td>71.0052</td>\n",
              "    </tr>\n",
              "    <tr>\n",
              "      <th>6</th>\n",
              "      <td>Recall (Micro Average)</td>\n",
              "      <td>71.0305</td>\n",
              "    </tr>\n",
              "    <tr>\n",
              "      <th>7</th>\n",
              "      <td>F1-Score (Macro Average)</td>\n",
              "      <td>70.9676</td>\n",
              "    </tr>\n",
              "    <tr>\n",
              "      <th>8</th>\n",
              "      <td>F1-Score (Micro Average)</td>\n",
              "      <td>71.0305</td>\n",
              "    </tr>\n",
              "    <tr>\n",
              "      <th>9</th>\n",
              "      <td>time per document (ms)</td>\n",
              "      <td>49.24</td>\n",
              "    </tr>\n",
              "    <tr>\n",
              "      <th>10</th>\n",
              "      <td>training time (min)</td>\n",
              "      <td>5.56</td>\n",
              "    </tr>\n",
              "  </tbody>\n",
              "</table>\n",
              "</div>\n",
              "      <button class=\"colab-df-convert\" onclick=\"convertToInteractive('df-c899a3eb-38fe-4670-ab71-1ebe410ebba7')\"\n",
              "              title=\"Convert this dataframe to an interactive table.\"\n",
              "              style=\"display:none;\">\n",
              "        \n",
              "  <svg xmlns=\"http://www.w3.org/2000/svg\" height=\"24px\"viewBox=\"0 0 24 24\"\n",
              "       width=\"24px\">\n",
              "    <path d=\"M0 0h24v24H0V0z\" fill=\"none\"/>\n",
              "    <path d=\"M18.56 5.44l.94 2.06.94-2.06 2.06-.94-2.06-.94-.94-2.06-.94 2.06-2.06.94zm-11 1L8.5 8.5l.94-2.06 2.06-.94-2.06-.94L8.5 2.5l-.94 2.06-2.06.94zm10 10l.94 2.06.94-2.06 2.06-.94-2.06-.94-.94-2.06-.94 2.06-2.06.94z\"/><path d=\"M17.41 7.96l-1.37-1.37c-.4-.4-.92-.59-1.43-.59-.52 0-1.04.2-1.43.59L10.3 9.45l-7.72 7.72c-.78.78-.78 2.05 0 2.83L4 21.41c.39.39.9.59 1.41.59.51 0 1.02-.2 1.41-.59l7.78-7.78 2.81-2.81c.8-.78.8-2.07 0-2.86zM5.41 20L4 18.59l7.72-7.72 1.47 1.35L5.41 20z\"/>\n",
              "  </svg>\n",
              "      </button>\n",
              "      \n",
              "  <style>\n",
              "    .colab-df-container {\n",
              "      display:flex;\n",
              "      flex-wrap:wrap;\n",
              "      gap: 12px;\n",
              "    }\n",
              "\n",
              "    .colab-df-convert {\n",
              "      background-color: #E8F0FE;\n",
              "      border: none;\n",
              "      border-radius: 50%;\n",
              "      cursor: pointer;\n",
              "      display: none;\n",
              "      fill: #1967D2;\n",
              "      height: 32px;\n",
              "      padding: 0 0 0 0;\n",
              "      width: 32px;\n",
              "    }\n",
              "\n",
              "    .colab-df-convert:hover {\n",
              "      background-color: #E2EBFA;\n",
              "      box-shadow: 0px 1px 2px rgba(60, 64, 67, 0.3), 0px 1px 3px 1px rgba(60, 64, 67, 0.15);\n",
              "      fill: #174EA6;\n",
              "    }\n",
              "\n",
              "    [theme=dark] .colab-df-convert {\n",
              "      background-color: #3B4455;\n",
              "      fill: #D2E3FC;\n",
              "    }\n",
              "\n",
              "    [theme=dark] .colab-df-convert:hover {\n",
              "      background-color: #434B5C;\n",
              "      box-shadow: 0px 1px 3px 1px rgba(0, 0, 0, 0.15);\n",
              "      filter: drop-shadow(0px 1px 2px rgba(0, 0, 0, 0.3));\n",
              "      fill: #FFFFFF;\n",
              "    }\n",
              "  </style>\n",
              "\n",
              "      <script>\n",
              "        const buttonEl =\n",
              "          document.querySelector('#df-c899a3eb-38fe-4670-ab71-1ebe410ebba7 button.colab-df-convert');\n",
              "        buttonEl.style.display =\n",
              "          google.colab.kernel.accessAllowed ? 'block' : 'none';\n",
              "\n",
              "        async function convertToInteractive(key) {\n",
              "          const element = document.querySelector('#df-c899a3eb-38fe-4670-ab71-1ebe410ebba7');\n",
              "          const dataTable =\n",
              "            await google.colab.kernel.invokeFunction('convertToInteractive',\n",
              "                                                     [key], {});\n",
              "          if (!dataTable) return;\n",
              "\n",
              "          const docLinkHtml = 'Like what you see? Visit the ' +\n",
              "            '<a target=\"_blank\" href=https://colab.research.google.com/notebooks/data_table.ipynb>data table notebook</a>'\n",
              "            + ' to learn more about interactive tables.';\n",
              "          element.innerHTML = '';\n",
              "          dataTable['output_type'] = 'display_data';\n",
              "          await google.colab.output.renderOutput(dataTable, element);\n",
              "          const docLink = document.createElement('div');\n",
              "          docLink.innerHTML = docLinkHtml;\n",
              "          element.appendChild(docLink);\n",
              "        }\n",
              "      </script>\n",
              "    </div>\n",
              "  </div>\n",
              "  "
            ]
          },
          "metadata": {},
          "execution_count": 16
        }
      ],
      "source": [
        "print(\"tested on \" + str(test.shape[0]) + \" documents\")\n",
        "\n",
        "evaluation = evaluate_model(y_actu, y_pred, round(full_time/test.shape[0]*1000, 2), round(training_time/60, 2), \"CNN\")\n",
        "\n",
        "eval_df = pd.DataFrame(evaluation.items())\n",
        "eval_df"
      ]
    },
    {
      "cell_type": "code",
      "execution_count": null,
      "metadata": {
        "id": "C53TQufJEgEA",
        "colab": {
          "base_uri": "https://localhost:8080/",
          "height": 970
        },
        "outputId": "892ae8a5-e888-4cfa-8971-49e4ff11891d"
      },
      "outputs": [
        {
          "output_type": "display_data",
          "data": {
            "text/plain": [
              "<Figure size 720x720 with 1 Axes>"
            ],
            "image/png": "[encoded data removed]"
          },
          "metadata": {
            "needs_background": "light"
          }
        }
      ],
      "source": [
        "plot_confusion_matrix(y_actu, y_pred, labels)"
      ]
    }
  ],
  "metadata": {
    "colab": {
      "collapsed_sections": [
        "T8zw0PVUMwpX",
        "ngNgu5TVN8a_",
        "YNaytgG6Qe8C",
        "nMFefRDJQoPo",
        "Q9GQIXDmQ_W5",
        "bMPvdb00RCCG",
        "jDrNysxCXdOQ",
        "XqVqa7JCmi6X",
        "k6VnmYdPHUZU",
        "n7gYHfbzHUZV",
        "OxrXPp1CHUZW",
        "sybhNaFKHUZW",
        "Q2GdKgXpbw16",
        "K3BPRV-WHSuT",
        "i_tlpLAPHSuT",
        "xiC778KFHSuU",
        "GTruJUlEHSuU",
        "gp3eIg_nEgD2",
        "gO_rxnrMEgD9",
        "UAd6arJHEgD-",
        "n0twDe3NEgD_",
        "NfFigp-1EgD_"
      ],
      "provenance": [],
      "include_colab_link": true
    },
    "kernelspec": {
      "display_name": "Python 3",
      "name": "python3"
    },
    "language_info": {
      "name": "python"
    }
  },
  "nbformat": 4,
  "nbformat_minor": 0
}