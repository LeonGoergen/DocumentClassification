{
  "nbformat": 4,
  "nbformat_minor": 0,
  "metadata": {
    "colab": {
      "provenance": [],
      "collapsed_sections": [
        "V1fiz8zQhppK",
        "jDUBjzGvhuE9",
        "5k4fDQ4uhxsk"
      ],
      "include_colab_link": true
    },
    "kernelspec": {
      "name": "python3",
      "display_name": "Python 3"
    },
    "language_info": {
      "name": "python"
    }
  },
  "cells": [
    {
      "cell_type": "markdown",
      "metadata": {
        "id": "view-in-github",
        "colab_type": "text"
      },
      "source": [
        "<a href=\"https://colab.research.google.com/github/LeonGoergen/DocumentClassification/blob/main/classification/resultsSummary%20/Propritary_Results.ipynb\" target=\"_parent\"><img src=\"https://colab.research.google.com/assets/colab-badge.svg\" alt=\"Open In Colab\"/></a>"
      ]
    },
    {
      "cell_type": "markdown",
      "source": [
        "# Imports"
      ],
      "metadata": {
        "id": "V1fiz8zQhppK"
      }
    },
    {
      "cell_type": "code",
      "source": [
        "import json\n",
        "import pandas as pd\n",
        "import os\n",
        "import seaborn as sns\n",
        "import numpy as np\n",
        "import matplotlib.pyplot as plt\n",
        "import matplotlib.ticker as ticker\n",
        "import matplotlib.ticker as mticker"
      ],
      "metadata": {
        "id": "PaHcDmp4Ocrx"
      },
      "execution_count": null,
      "outputs": []
    },
    {
      "cell_type": "code",
      "execution_count": null,
      "metadata": {
        "colab": {
          "base_uri": "https://localhost:8080/"
        },
        "id": "53GM1qnj-I8F",
        "outputId": "6fa5f7bb-5159-42e6-8817-d139ad069450"
      },
      "outputs": [
        {
          "output_type": "stream",
          "name": "stdout",
          "text": [
            "Mounted at /content/drive\n"
          ]
        }
      ],
      "source": [
        "from google.colab import drive\n",
        "drive.mount('/content/drive')"
      ]
    },
    {
      "cell_type": "code",
      "source": [
        "train = pd.read_csv('/content/drive/MyDrive/Bachelor Thesis/Datasets/train.csv', sep=\"\\t\", header=0)"
      ],
      "metadata": {
        "id": "spTGrVNwP11N"
      },
      "execution_count": null,
      "outputs": []
    },
    {
      "cell_type": "markdown",
      "source": [
        "# Create Dataframe"
      ],
      "metadata": {
        "id": "jDUBjzGvhuE9"
      }
    },
    {
      "cell_type": "code",
      "source": [
        "results = []\n",
        "\n",
        "# Read the JSON files and add the dictionaries to the list\n",
        "for file in os.listdir(\"/content/drive/MyDrive/Bachelor Thesis/Classification/Proprietary Results\"):\n",
        "    if file.endswith(\".json\"):\n",
        "        with open(\"/content/drive/MyDrive/Bachelor Thesis/Classification/Proprietary Results/\" + file, 'r') as f:\n",
        "            results.append(json.load(f))\n",
        "\n",
        "# Create a DataFrame from the list of dictionaries\n",
        "df = pd.DataFrame(results)\n",
        "\n",
        "# Convert training time to training time per document\n",
        "df['training time (min)'] = df['training time (min)'] * 60000 / train.shape[0]\n",
        "df.rename(columns={'training time (min)': 'training time per document (ms)', 'time per document (ms)': 'inference time per document (ms)'}, inplace=True)"
      ],
      "metadata": {
        "id": "JRcuhxxNOuUQ"
      },
      "execution_count": null,
      "outputs": []
    },
    {
      "cell_type": "code",
      "source": [
        "def highlight(data):\n",
        "    attr = 'background-color: grey'\n",
        "    data = data.astype(float)\n",
        "    if data.name == 'training time per document (ms)' or data.name == 'inference time per document (ms)':\n",
        "        is_min = data == data.min()\n",
        "    else:\n",
        "        is_min = data == data.max()\n",
        "    return [attr if v else '' for v in is_min]"
      ],
      "metadata": {
        "id": "x37uYZGZt5RF"
      },
      "execution_count": null,
      "outputs": []
    },
    {
      "cell_type": "code",
      "execution_count": null,
      "metadata": {
        "colab": {
          "base_uri": "https://localhost:8080/",
          "height": 335
        },
        "id": "5aIlTJ58nSe1",
        "outputId": "4457f458-60f2-4e6a-831c-1fec90270d6d"
      },
      "outputs": [
        {
          "output_type": "execute_result",
          "data": {
            "text/plain": [
              "<pandas.io.formats.style.Styler at 0x7f8f354c2a90>"
            ],
            "text/html": [
              "<style type=\"text/css\">\n",
              "#T_2ed4c_row4_col8, #T_2ed4c_row5_col0, #T_2ed4c_row5_col1, #T_2ed4c_row5_col2, #T_2ed4c_row5_col3, #T_2ed4c_row5_col4, #T_2ed4c_row5_col5, #T_2ed4c_row5_col6, #T_2ed4c_row5_col7 {\n",
              "  background-color: grey;\n",
              "}\n",
              "</style>\n",
              "<table id=\"T_2ed4c\" class=\"dataframe\">\n",
              "  <thead>\n",
              "    <tr>\n",
              "      <th class=\"blank\" >&nbsp;</th>\n",
              "      <th class=\"blank level0\" >&nbsp;</th>\n",
              "      <th id=\"T_2ed4c_level0_col0\" class=\"col_heading level0 col0\" >Accuracy</th>\n",
              "      <th id=\"T_2ed4c_level0_col1\" class=\"col_heading level0 col1\" >Precision (Macro Average)</th>\n",
              "      <th id=\"T_2ed4c_level0_col2\" class=\"col_heading level0 col2\" >Precision (Micro Average)</th>\n",
              "      <th id=\"T_2ed4c_level0_col3\" class=\"col_heading level0 col3\" >Recall (Macro Average)</th>\n",
              "      <th id=\"T_2ed4c_level0_col4\" class=\"col_heading level0 col4\" >Recall (Micro Average)</th>\n",
              "      <th id=\"T_2ed4c_level0_col5\" class=\"col_heading level0 col5\" >F1-Score (Macro Average)</th>\n",
              "      <th id=\"T_2ed4c_level0_col6\" class=\"col_heading level0 col6\" >F1-Score (Micro Average)</th>\n",
              "      <th id=\"T_2ed4c_level0_col7\" class=\"col_heading level0 col7\" >inference time per document (ms)</th>\n",
              "      <th id=\"T_2ed4c_level0_col8\" class=\"col_heading level0 col8\" >training time per document (ms)</th>\n",
              "    </tr>\n",
              "    <tr>\n",
              "      <th class=\"index_name level0\" >Algorithm</th>\n",
              "      <th class=\"index_name level1\" >Method</th>\n",
              "      <th class=\"blank col0\" >&nbsp;</th>\n",
              "      <th class=\"blank col1\" >&nbsp;</th>\n",
              "      <th class=\"blank col2\" >&nbsp;</th>\n",
              "      <th class=\"blank col3\" >&nbsp;</th>\n",
              "      <th class=\"blank col4\" >&nbsp;</th>\n",
              "      <th class=\"blank col5\" >&nbsp;</th>\n",
              "      <th class=\"blank col6\" >&nbsp;</th>\n",
              "      <th class=\"blank col7\" >&nbsp;</th>\n",
              "      <th class=\"blank col8\" >&nbsp;</th>\n",
              "    </tr>\n",
              "  </thead>\n",
              "  <tbody>\n",
              "    <tr>\n",
              "      <th id=\"T_2ed4c_level0_row0\" class=\"row_heading level0 row0\" >Azure</th>\n",
              "      <th id=\"T_2ed4c_level1_row0\" class=\"row_heading level1 row0\" ></th>\n",
              "      <td id=\"T_2ed4c_row0_col0\" class=\"data row0 col0\" >79.13</td>\n",
              "      <td id=\"T_2ed4c_row0_col1\" class=\"data row0 col1\" >79.05</td>\n",
              "      <td id=\"T_2ed4c_row0_col2\" class=\"data row0 col2\" >79.13</td>\n",
              "      <td id=\"T_2ed4c_row0_col3\" class=\"data row0 col3\" >79.12</td>\n",
              "      <td id=\"T_2ed4c_row0_col4\" class=\"data row0 col4\" >79.13</td>\n",
              "      <td id=\"T_2ed4c_row0_col5\" class=\"data row0 col5\" >79.03</td>\n",
              "      <td id=\"T_2ed4c_row0_col6\" class=\"data row0 col6\" >79.13</td>\n",
              "      <td id=\"T_2ed4c_row0_col7\" class=\"data row0 col7\" >5439.81</td>\n",
              "      <td id=\"T_2ed4c_row0_col8\" class=\"data row0 col8\" >573.97</td>\n",
              "    </tr>\n",
              "    <tr>\n",
              "      <th id=\"T_2ed4c_level0_row1\" class=\"row_heading level0 row1\" >Comprehend</th>\n",
              "      <th id=\"T_2ed4c_level1_row1\" class=\"row_heading level1 row1\" ></th>\n",
              "      <td id=\"T_2ed4c_row1_col0\" class=\"data row1 col0\" >78.04</td>\n",
              "      <td id=\"T_2ed4c_row1_col1\" class=\"data row1 col1\" >78.16</td>\n",
              "      <td id=\"T_2ed4c_row1_col2\" class=\"data row1 col2\" >78.04</td>\n",
              "      <td id=\"T_2ed4c_row1_col3\" class=\"data row1 col3\" >78.03</td>\n",
              "      <td id=\"T_2ed4c_row1_col4\" class=\"data row1 col4\" >78.04</td>\n",
              "      <td id=\"T_2ed4c_row1_col5\" class=\"data row1 col5\" >78.01</td>\n",
              "      <td id=\"T_2ed4c_row1_col6\" class=\"data row1 col6\" >78.04</td>\n",
              "      <td id=\"T_2ed4c_row1_col7\" class=\"data row1 col7\" >14920.47</td>\n",
              "      <td id=\"T_2ed4c_row1_col8\" class=\"data row1 col8\" >294.30</td>\n",
              "    </tr>\n",
              "    <tr>\n",
              "      <th id=\"T_2ed4c_level0_row2\" class=\"row_heading level0 row2\" >GPT-3</th>\n",
              "      <th id=\"T_2ed4c_level1_row2\" class=\"row_heading level1 row2\" ></th>\n",
              "      <td id=\"T_2ed4c_row2_col0\" class=\"data row2 col0\" >81.27</td>\n",
              "      <td id=\"T_2ed4c_row2_col1\" class=\"data row2 col1\" >81.17</td>\n",
              "      <td id=\"T_2ed4c_row2_col2\" class=\"data row2 col2\" >81.27</td>\n",
              "      <td id=\"T_2ed4c_row2_col3\" class=\"data row2 col3\" >81.26</td>\n",
              "      <td id=\"T_2ed4c_row2_col4\" class=\"data row2 col4\" >81.27</td>\n",
              "      <td id=\"T_2ed4c_row2_col5\" class=\"data row2 col5\" >81.18</td>\n",
              "      <td id=\"T_2ed4c_row2_col6\" class=\"data row2 col6\" >81.27</td>\n",
              "      <td id=\"T_2ed4c_row2_col7\" class=\"data row2 col7\" >96.82</td>\n",
              "      <td id=\"T_2ed4c_row2_col8\" class=\"data row2 col8\" >201.85</td>\n",
              "    </tr>\n",
              "    <tr>\n",
              "      <th id=\"T_2ed4c_level0_row3\" class=\"row_heading level0 row3\" >LevityAI</th>\n",
              "      <th id=\"T_2ed4c_level1_row3\" class=\"row_heading level1 row3\" ></th>\n",
              "      <td id=\"T_2ed4c_row3_col0\" class=\"data row3 col0\" >80.29</td>\n",
              "      <td id=\"T_2ed4c_row3_col1\" class=\"data row3 col1\" >80.30</td>\n",
              "      <td id=\"T_2ed4c_row3_col2\" class=\"data row3 col2\" >80.29</td>\n",
              "      <td id=\"T_2ed4c_row3_col3\" class=\"data row3 col3\" >80.30</td>\n",
              "      <td id=\"T_2ed4c_row3_col4\" class=\"data row3 col4\" >80.29</td>\n",
              "      <td id=\"T_2ed4c_row3_col5\" class=\"data row3 col5\" >80.27</td>\n",
              "      <td id=\"T_2ed4c_row3_col6\" class=\"data row3 col6\" >80.29</td>\n",
              "      <td id=\"T_2ed4c_row3_col7\" class=\"data row3 col7\" >1491.67</td>\n",
              "      <td id=\"T_2ed4c_row3_col8\" class=\"data row3 col8\" >261.35</td>\n",
              "    </tr>\n",
              "    <tr>\n",
              "      <th id=\"T_2ed4c_level0_row4\" class=\"row_heading level0 row4\" >PlanetAi</th>\n",
              "      <th id=\"T_2ed4c_level1_row4\" class=\"row_heading level1 row4\" ></th>\n",
              "      <td id=\"T_2ed4c_row4_col0\" class=\"data row4 col0\" >79.04</td>\n",
              "      <td id=\"T_2ed4c_row4_col1\" class=\"data row4 col1\" >79.03</td>\n",
              "      <td id=\"T_2ed4c_row4_col2\" class=\"data row4 col2\" >79.04</td>\n",
              "      <td id=\"T_2ed4c_row4_col3\" class=\"data row4 col3\" >79.04</td>\n",
              "      <td id=\"T_2ed4c_row4_col4\" class=\"data row4 col4\" >79.04</td>\n",
              "      <td id=\"T_2ed4c_row4_col5\" class=\"data row4 col5\" >79.01</td>\n",
              "      <td id=\"T_2ed4c_row4_col6\" class=\"data row4 col6\" >79.04</td>\n",
              "      <td id=\"T_2ed4c_row4_col7\" class=\"data row4 col7\" >27.24</td>\n",
              "      <td id=\"T_2ed4c_row4_col8\" class=\"data row4 col8\" >132.21</td>\n",
              "    </tr>\n",
              "    <tr>\n",
              "      <th id=\"T_2ed4c_level0_row5\" class=\"row_heading level0 row5\" >RoBERTa</th>\n",
              "      <th id=\"T_2ed4c_level1_row5\" class=\"row_heading level1 row5\" >Base</th>\n",
              "      <td id=\"T_2ed4c_row5_col0\" class=\"data row5 col0\" >81.29</td>\n",
              "      <td id=\"T_2ed4c_row5_col1\" class=\"data row5 col1\" >81.25</td>\n",
              "      <td id=\"T_2ed4c_row5_col2\" class=\"data row5 col2\" >81.29</td>\n",
              "      <td id=\"T_2ed4c_row5_col3\" class=\"data row5 col3\" >81.29</td>\n",
              "      <td id=\"T_2ed4c_row5_col4\" class=\"data row5 col4\" >81.29</td>\n",
              "      <td id=\"T_2ed4c_row5_col5\" class=\"data row5 col5\" >81.25</td>\n",
              "      <td id=\"T_2ed4c_row5_col6\" class=\"data row5 col6\" >81.29</td>\n",
              "      <td id=\"T_2ed4c_row5_col7\" class=\"data row5 col7\" >22.15</td>\n",
              "      <td id=\"T_2ed4c_row5_col8\" class=\"data row5 col8\" >316.02</td>\n",
              "    </tr>\n",
              "    <tr>\n",
              "      <th id=\"T_2ed4c_level0_row6\" class=\"row_heading level0 row6\" >VertexAI</th>\n",
              "      <th id=\"T_2ed4c_level1_row6\" class=\"row_heading level1 row6\" ></th>\n",
              "      <td id=\"T_2ed4c_row6_col0\" class=\"data row6 col0\" >78.12</td>\n",
              "      <td id=\"T_2ed4c_row6_col1\" class=\"data row6 col1\" >77.89</td>\n",
              "      <td id=\"T_2ed4c_row6_col2\" class=\"data row6 col2\" >78.12</td>\n",
              "      <td id=\"T_2ed4c_row6_col3\" class=\"data row6 col3\" >78.10</td>\n",
              "      <td id=\"T_2ed4c_row6_col4\" class=\"data row6 col4\" >78.12</td>\n",
              "      <td id=\"T_2ed4c_row6_col5\" class=\"data row6 col5\" >77.95</td>\n",
              "      <td id=\"T_2ed4c_row6_col6\" class=\"data row6 col6\" >78.12</td>\n",
              "      <td id=\"T_2ed4c_row6_col7\" class=\"data row6 col7\" >350.91</td>\n",
              "      <td id=\"T_2ed4c_row6_col8\" class=\"data row6 col8\" >217.92</td>\n",
              "    </tr>\n",
              "  </tbody>\n",
              "</table>\n"
            ]
          },
          "metadata": {},
          "execution_count": 6
        }
      ],
      "source": [
        "grouped = df.groupby(['Algorithm', 'Method'], sort=True).sum()\n",
        "grouped = grouped.round(2)\n",
        "grouped = grouped.applymap(lambda x: '{:.2f}'.format(x))\n",
        "grouped = grouped.style.apply(highlight)\n",
        "grouped"
      ]
    },
    {
      "cell_type": "markdown",
      "source": [
        "# Plot Results"
      ],
      "metadata": {
        "id": "5k4fDQ4uhxsk"
      }
    },
    {
      "cell_type": "code",
      "source": [
        "# Create a list of all the algorithms sorted by accuracy\n",
        "sorted_algo_by_acc = df.sort_values(by='Accuracy',ascending=False)['Algorithm'].tolist()\n",
        "sorted_algo_by_acc = list(dict.fromkeys(sorted_algo_by_acc))\n",
        "\n",
        "# Create a new dataframe containing the row with the highest accuracy value for each algorithm\n",
        "df_max = pd.DataFrame(columns=df.columns)\n",
        "for algo in sorted_algo_by_acc:\n",
        "  max_acc_row = df[df['Algorithm'] == algo].loc[df[df['Algorithm'] == algo]['Accuracy'].idxmax()]\n",
        "  df_max = df_max.append(max_acc_row, ignore_index=True)"
      ],
      "metadata": {
        "id": "IjDKZUnsb62f",
        "colab": {
          "base_uri": "https://localhost:8080/"
        },
        "outputId": "09e89dca-af4d-43e1-b374-975bbcb3c7a2"
      },
      "execution_count": null,
      "outputs": [
        {
          "output_type": "stream",
          "name": "stderr",
          "text": [
            "<ipython-input-7-bec69127c136>:9: FutureWarning: The frame.append method is deprecated and will be removed from pandas in a future version. Use pandas.concat instead.\n",
            "  df_max = df_max.append(max_acc_row, ignore_index=True)\n",
            "<ipython-input-7-bec69127c136>:9: FutureWarning: The frame.append method is deprecated and will be removed from pandas in a future version. Use pandas.concat instead.\n",
            "  df_max = df_max.append(max_acc_row, ignore_index=True)\n",
            "<ipython-input-7-bec69127c136>:9: FutureWarning: The frame.append method is deprecated and will be removed from pandas in a future version. Use pandas.concat instead.\n",
            "  df_max = df_max.append(max_acc_row, ignore_index=True)\n",
            "<ipython-input-7-bec69127c136>:9: FutureWarning: The frame.append method is deprecated and will be removed from pandas in a future version. Use pandas.concat instead.\n",
            "  df_max = df_max.append(max_acc_row, ignore_index=True)\n",
            "<ipython-input-7-bec69127c136>:9: FutureWarning: The frame.append method is deprecated and will be removed from pandas in a future version. Use pandas.concat instead.\n",
            "  df_max = df_max.append(max_acc_row, ignore_index=True)\n",
            "<ipython-input-7-bec69127c136>:9: FutureWarning: The frame.append method is deprecated and will be removed from pandas in a future version. Use pandas.concat instead.\n",
            "  df_max = df_max.append(max_acc_row, ignore_index=True)\n",
            "<ipython-input-7-bec69127c136>:9: FutureWarning: The frame.append method is deprecated and will be removed from pandas in a future version. Use pandas.concat instead.\n",
            "  df_max = df_max.append(max_acc_row, ignore_index=True)\n"
          ]
        }
      ]
    },
    {
      "cell_type": "code",
      "source": [
        "# Create a new dataframe with the scores for each algorithm\n",
        "scores_df = df_max[['Algorithm','Accuracy','F1-Score (Macro Average)']].melt(id_vars=['Algorithm'], var_name='Score', value_name='Value')\n",
        "\n",
        "# Increase the size of the figure\n",
        "plt.figure(figsize=(15,7))\n",
        "\n",
        "# Add light grey gridlines\n",
        "sns.set_style(\"whitegrid\")\n",
        "\n",
        "# Create the bar plot with thinner bars\n",
        "sns.barplot(x='Algorithm', y='Value', hue='Score', data=scores_df, linewidth=1, order=sorted_algo_by_acc).set_title('scores for different metrics (higher is better)')\n",
        "\n",
        "# Add Legend\n",
        "plt.legend(bbox_to_anchor=(1.05, 1), loc=2, borderaxespad=0.)\n",
        "\n",
        "#change y axis label\n",
        "plt.ylabel('Score')\n",
        "plt.yticks(np.arange(0, max(scores_df['Value'])+5, 5))\n",
        "\n",
        "# Show the plot\n",
        "plt.show()"
      ],
      "metadata": {
        "colab": {
          "base_uri": "https://localhost:8080/",
          "height": 458
        },
        "id": "GPqqduwhVa2D",
        "outputId": "64690647-f737-41fc-a7be-60727ac3a7fa"
      },
      "execution_count": null,
      "outputs": [
        {
          "output_type": "display_data",
          "data": {
            "text/plain": [
              "<Figure size 1080x504 with 1 Axes>"
            ],
            "image/png": "[encoded data removed]"
          },
          "metadata": {
            "needs_background": "light"
          }
        }
      ]
    },
    {
      "cell_type": "code",
      "source": [
        "# scale the x-axis values to the y-axis values\n",
        "axis_scaling = 0.1\n",
        "\n",
        "df_max.rename(columns={'training time per document (ms)': 'training time', 'inference time per document (ms)': 'inference time'}, inplace=True)\n",
        "\n",
        "# Create a new dataframe with the scores for each algorithm\n",
        "time_df = df_max[['Algorithm','training time','inference time']].melt(id_vars=['Algorithm'], var_name='Score', value_name='Value')\n",
        "time_df.loc[time_df['Score'] == 'inference time', 'Value'] *= axis_scaling\n",
        "\n",
        "# Set a minimum value so every bar will be displayed with at least a small line\n",
        "for index, row in time_df.iterrows():\n",
        "    if row['Value'] < 4:\n",
        "       time_df.at[index, 'Value'] = 4\n",
        "\n",
        "# Increase the size of the figure\n",
        "fig, ax = plt.subplots(figsize=(15,15))\n",
        "\n",
        "# Add light grey gridlines\n",
        "sns.set_style(\"whitegrid\")\n",
        "\n",
        "# Create the bar plot with thinner bars\n",
        "ax2 = ax.twinx()\n",
        "sns.barplot(x='Algorithm', y='Value', hue='Score', data=time_df, linewidth=1, order=sorted_algo_by_acc).set_title('time per document (lower is better)')\n",
        "\n",
        "# Add Legend\n",
        "plt.legend(bbox_to_anchor=(1.05, 1), loc=2, borderaxespad=1)\n",
        "\n",
        "#change y axis label\n",
        "ax.set_ylabel('Training time (ms)')\n",
        "ax2.set_ylabel('Inference Time (ms)')\n",
        "\n",
        "# Set the number of y-axis gridlines\n",
        "ax2.yaxis.set_major_locator(mticker.MultipleLocator(800*axis_scaling))\n",
        "ax.yaxis.set_major_locator(mticker.MultipleLocator(800*axis_scaling))\n",
        "\n",
        "# Align gridlines of the two y-axes\n",
        "y_limits = np.array([ax.get_ylim(), ax2.get_ylim()])\n",
        "ax.set_ylim(np.min(y_limits), np.max(y_limits))\n",
        "ax2.set_ylim(np.min(y_limits), np.max(y_limits))\n",
        "\n",
        "# Set the y-axis values to integers and multiply by 2\n",
        "ax2.set_yticklabels([int(x/axis_scaling) for x in ax2.get_yticks()])\n",
        "\n",
        "# Show the plot\n",
        "plt.show()"
      ],
      "metadata": {
        "colab": {
          "base_uri": "https://localhost:8080/",
          "height": 914
        },
        "id": "PET-T_BuJXA4",
        "outputId": "a8a31fd9-5948-46ea-f32e-239ce7da4427"
      },
      "execution_count": null,
      "outputs": [
        {
          "output_type": "stream",
          "name": "stderr",
          "text": [
            "<ipython-input-14-64cdbe918dde>:42: UserWarning: FixedFormatter should only be used together with FixedLocator\n",
            "  ax2.set_yticklabels([int(x/axis_scaling) for x in ax2.get_yticks()])\n"
          ]
        },
        {
          "output_type": "display_data",
          "data": {
            "text/plain": [
              "<Figure size 1080x1080 with 2 Axes>"
            ],
            "image/png": "[encoded data removed]"
          },
          "metadata": {}
        }
      ]
    }
  ]
}